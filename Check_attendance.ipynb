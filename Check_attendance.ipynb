{
  "metadata": {
    "kernelspec": {
      "language": "python",
      "display_name": "Python 3",
      "name": "python3"
    },
    "language_info": {
      "name": "python",
      "version": "3.7.12",
      "mimetype": "text/x-python",
      "codemirror_mode": {
        "name": "ipython",
        "version": 3
      },
      "pygments_lexer": "ipython3",
      "nbconvert_exporter": "python",
      "file_extension": ".py"
    },
    "colab": {
      "name": "Check attendance.ipynb",
      "provenance": [],
      "collapsed_sections": [
        "V4RNwibNay65"
      ]
    }
  },
  "nbformat_minor": 0,
  "nbformat": 4,
  "cells": [
    {
      "cell_type": "markdown",
      "source": [
        "#TRAIN SECTION "
      ],
      "metadata": {
        "id": "lMdnLZ9M8DSe"
      }
    },
    {
      "cell_type": "code",
      "source": [
        "from google.colab import drive\n",
        "drive.mount('/content/drive', force_remount=True)   \n",
        "import os \n",
        "os.chdir(\"/content/drive/My Drive\")"
      ],
      "metadata": {
        "colab": {
          "base_uri": "https://localhost:8080/"
        },
        "id": "2_DP8Dia8uah",
        "outputId": "a6afa7c4-be03-43a0-dbeb-3c5879c197cf"
      },
      "execution_count": null,
      "outputs": [
        {
          "output_type": "stream",
          "name": "stdout",
          "text": [
            "Mounted at /content/drive\n"
          ]
        }
      ]
    },
    {
      "cell_type": "code",
      "source": [
        "#Import lib\n",
        "import tensorflow as tf\n",
        "import numpy as np\n",
        "import pandas as pd\n",
        "import matplotlib.pyplot as plt\n",
        "from PIL import Image \n",
        "import os\n",
        "from tensorflow.keras.utils import image_dataset_from_directory, to_categorical\n",
        "from tensorflow.keras.preprocessing.image import ImageDataGenerator\n",
        "from sklearn.model_selection import train_test_split, StratifiedShuffleSplit\n",
        "from tensorflow.keras.applications.inception_resnet_v2 import preprocess_input\n",
        "from tensorflow.keras import layers, Model, Sequential\n",
        "from tensorflow.keras.applications import VGG16, InceptionResNetV2\n",
        "from tensorflow.keras.preprocessing.image import ImageDataGenerator\n",
        "from tensorflow.keras.layers import Flatten, Dense, Dropout, BatchNormalization, GlobalAveragePooling2D\n",
        "from sklearn.model_selection import train_test_split\n",
        "from tensorflow.keras.callbacks import LearningRateScheduler, ModelCheckpoint, EarlyStopping\n",
        "from tensorflow.keras.optimizers import SGD, Adam, Adagrad \n",
        "from tensorflow.keras.metrics import Recall, Precision, Accuracy\n",
        "from keras.preprocessing.image import img_to_array\n",
        "from keras.preprocessing.image import load_img\n",
        "from sklearn.preprocessing import LabelBinarizer\n",
        "from keras.callbacks import ModelCheckpoint\n",
        "from tensorflow.keras import models "
      ],
      "metadata": {
        "_uuid": "8f2839f25d086af736a60e9eeb907d3b93b6e0e5",
        "_cell_guid": "b1076dfc-b9ad-4769-8c92-a6c4dae69d19",
        "execution": {
          "iopub.status.busy": "2022-04-10T16:52:42.761836Z",
          "iopub.execute_input": "2022-04-10T16:52:42.762094Z",
          "iopub.status.idle": "2022-04-10T16:52:42.772139Z",
          "shell.execute_reply.started": "2022-04-10T16:52:42.762065Z",
          "shell.execute_reply": "2022-04-10T16:52:42.771366Z"
        },
        "trusted": true,
        "id": "GQSBOa7Y6E8K"
      },
      "execution_count": null,
      "outputs": []
    },
    {
      "cell_type": "markdown",
      "source": [
        "# Data preparation"
      ],
      "metadata": {
        "id": "XjBHz5zX7wIl"
      }
    },
    {
      "cell_type": "markdown",
      "source": [
        "Get frames from videos"
      ],
      "metadata": {
        "id": "lgFvkYOu76vH"
      }
    },
    {
      "cell_type": "code",
      "source": [
        "import cv2\n",
        "import os\n",
        "import time \n",
        "\n",
        "directory = os.fsencode('/content/drive/MyDrive/BTL CV 20212/CV/Video ')\n",
        "    \n",
        "for file in os.listdir(directory):\n",
        "  filename = os.fsdecode(file)\n",
        "  if filename.endswith(\".mp4\"): \n",
        "    success = True\n",
        "    path = '/content/drive/MyDrive/BTL CV 20212/CV/Dataframe/' + filename[:-4]\n",
        "    os.makedirs(path, exist_ok=True)\n",
        "    print (path)\n",
        "    vidcap = cv2.VideoCapture('/content/drive/MyDrive/BTL CV 20212/CV/Video /' + filename)\n",
        "    if vidcap.isOpened():\n",
        "      count = 0\n",
        "      success, image = vidcap.read()\n",
        "      while success:\n",
        "        if count % 5 == 0:\n",
        "          cv2.imwrite(os.path.join(path , f'{count/5}.jpg'), image)   \n",
        "        count += 1\n",
        "        success, image = vidcap.read()"
      ],
      "metadata": {
        "id": "RdxVjfDGLGsF",
        "colab": {
          "base_uri": "https://localhost:8080/"
        },
        "outputId": "6f16f096-0975-42e7-ebc8-ecbd8d6cf136"
      },
      "execution_count": null,
      "outputs": [
        {
          "output_type": "stream",
          "name": "stdout",
          "text": [
            "/content/drive/MyDrive/BTL CV 20212/CV/Dataframe/Tuan\n",
            "/content/drive/MyDrive/BTL CV 20212/CV/Dataframe/Truong\n",
            "/content/drive/MyDrive/BTL CV 20212/CV/Dataframe/Linh\n",
            "/content/drive/MyDrive/BTL CV 20212/CV/Dataframe/Hieu\n",
            "/content/drive/MyDrive/BTL CV 20212/CV/Dataframe/Quan\n",
            "/content/drive/MyDrive/BTL CV 20212/CV/Dataframe/XAnh\n",
            "/content/drive/MyDrive/BTL CV 20212/CV/Dataframe/Tan\n",
            "/content/drive/MyDrive/BTL CV 20212/CV/Dataframe/Duc\n",
            "/content/drive/MyDrive/BTL CV 20212/CV/Dataframe/Kien\n",
            "/content/drive/MyDrive/BTL CV 20212/CV/Dataframe/VDuc\n",
            "/content/drive/MyDrive/BTL CV 20212/CV/Dataframe/Hung\n",
            "/content/drive/MyDrive/BTL CV 20212/CV/Dataframe/Thang\n",
            "/content/drive/MyDrive/BTL CV 20212/CV/Dataframe/HDuc\n",
            "/content/drive/MyDrive/BTL CV 20212/CV/Dataframe/Thu\n",
            "/content/drive/MyDrive/BTL CV 20212/CV/Dataframe/Chau\n",
            "/content/drive/MyDrive/BTL CV 20212/CV/Dataframe/LeVan\n",
            "/content/drive/MyDrive/BTL CV 20212/CV/Dataframe/Van\n",
            "/content/drive/MyDrive/BTL CV 20212/CV/Dataframe/VAnh\n"
          ]
        }
      ]
    },
    {
      "cell_type": "markdown",
      "source": [
        "Detect face"
      ],
      "metadata": {
        "id": "YBFpYjET8APZ"
      }
    },
    {
      "cell_type": "code",
      "source": [
        "!pip install retina-face"
      ],
      "metadata": {
        "colab": {
          "base_uri": "https://localhost:8080/"
        },
        "id": "FzqWjjtFaTp4",
        "outputId": "ccfd812a-0e64-4984-f8c0-28fbc34f7ec9"
      },
      "execution_count": null,
      "outputs": [
        {
          "output_type": "stream",
          "name": "stdout",
          "text": [
            "Looking in indexes: https://pypi.org/simple, https://us-python.pkg.dev/colab-wheels/public/simple/\n",
            "Collecting retina-face\n",
            "  Downloading retina_face-0.0.12-py3-none-any.whl (15 kB)\n",
            "Requirement already satisfied: numpy>=1.14.0 in /usr/local/lib/python3.7/dist-packages (from retina-face) (1.21.6)\n",
            "Requirement already satisfied: Pillow>=5.2.0 in /usr/local/lib/python3.7/dist-packages (from retina-face) (7.1.2)\n",
            "Requirement already satisfied: tensorflow>=1.9.0 in /usr/local/lib/python3.7/dist-packages (from retina-face) (2.8.2+zzzcolab20220527125636)\n",
            "Requirement already satisfied: opencv-python>=3.4.4 in /usr/local/lib/python3.7/dist-packages (from retina-face) (4.1.2.30)\n",
            "Requirement already satisfied: gdown>=3.10.1 in /usr/local/lib/python3.7/dist-packages (from retina-face) (4.4.0)\n",
            "Requirement already satisfied: requests[socks] in /usr/local/lib/python3.7/dist-packages (from gdown>=3.10.1->retina-face) (2.23.0)\n",
            "Requirement already satisfied: filelock in /usr/local/lib/python3.7/dist-packages (from gdown>=3.10.1->retina-face) (3.7.1)\n",
            "Requirement already satisfied: tqdm in /usr/local/lib/python3.7/dist-packages (from gdown>=3.10.1->retina-face) (4.64.0)\n",
            "Requirement already satisfied: six in /usr/local/lib/python3.7/dist-packages (from gdown>=3.10.1->retina-face) (1.15.0)\n",
            "Requirement already satisfied: beautifulsoup4 in /usr/local/lib/python3.7/dist-packages (from gdown>=3.10.1->retina-face) (4.6.3)\n",
            "Requirement already satisfied: astunparse>=1.6.0 in /usr/local/lib/python3.7/dist-packages (from tensorflow>=1.9.0->retina-face) (1.6.3)\n",
            "Requirement already satisfied: flatbuffers>=1.12 in /usr/local/lib/python3.7/dist-packages (from tensorflow>=1.9.0->retina-face) (2.0)\n",
            "Requirement already satisfied: google-pasta>=0.1.1 in /usr/local/lib/python3.7/dist-packages (from tensorflow>=1.9.0->retina-face) (0.2.0)\n",
            "Requirement already satisfied: gast>=0.2.1 in /usr/local/lib/python3.7/dist-packages (from tensorflow>=1.9.0->retina-face) (0.5.3)\n",
            "Requirement already satisfied: libclang>=9.0.1 in /usr/local/lib/python3.7/dist-packages (from tensorflow>=1.9.0->retina-face) (14.0.1)\n",
            "Requirement already satisfied: tensorboard<2.9,>=2.8 in /usr/local/lib/python3.7/dist-packages (from tensorflow>=1.9.0->retina-face) (2.8.0)\n",
            "Requirement already satisfied: tensorflow-io-gcs-filesystem>=0.23.1 in /usr/local/lib/python3.7/dist-packages (from tensorflow>=1.9.0->retina-face) (0.26.0)\n",
            "Requirement already satisfied: keras-preprocessing>=1.1.1 in /usr/local/lib/python3.7/dist-packages (from tensorflow>=1.9.0->retina-face) (1.1.2)\n",
            "Requirement already satisfied: tensorflow-estimator<2.9,>=2.8 in /usr/local/lib/python3.7/dist-packages (from tensorflow>=1.9.0->retina-face) (2.8.0)\n",
            "Requirement already satisfied: keras<2.9,>=2.8.0rc0 in /usr/local/lib/python3.7/dist-packages (from tensorflow>=1.9.0->retina-face) (2.8.0)\n",
            "Requirement already satisfied: h5py>=2.9.0 in /usr/local/lib/python3.7/dist-packages (from tensorflow>=1.9.0->retina-face) (3.1.0)\n",
            "Requirement already satisfied: setuptools in /usr/local/lib/python3.7/dist-packages (from tensorflow>=1.9.0->retina-face) (57.4.0)\n",
            "Requirement already satisfied: typing-extensions>=3.6.6 in /usr/local/lib/python3.7/dist-packages (from tensorflow>=1.9.0->retina-face) (4.1.1)\n",
            "Requirement already satisfied: termcolor>=1.1.0 in /usr/local/lib/python3.7/dist-packages (from tensorflow>=1.9.0->retina-face) (1.1.0)\n",
            "Requirement already satisfied: protobuf<3.20,>=3.9.2 in /usr/local/lib/python3.7/dist-packages (from tensorflow>=1.9.0->retina-face) (3.17.3)\n",
            "Requirement already satisfied: grpcio<2.0,>=1.24.3 in /usr/local/lib/python3.7/dist-packages (from tensorflow>=1.9.0->retina-face) (1.46.3)\n",
            "Requirement already satisfied: opt-einsum>=2.3.2 in /usr/local/lib/python3.7/dist-packages (from tensorflow>=1.9.0->retina-face) (3.3.0)\n",
            "Requirement already satisfied: wrapt>=1.11.0 in /usr/local/lib/python3.7/dist-packages (from tensorflow>=1.9.0->retina-face) (1.14.1)\n",
            "Requirement already satisfied: absl-py>=0.4.0 in /usr/local/lib/python3.7/dist-packages (from tensorflow>=1.9.0->retina-face) (1.1.0)\n",
            "Requirement already satisfied: wheel<1.0,>=0.23.0 in /usr/local/lib/python3.7/dist-packages (from astunparse>=1.6.0->tensorflow>=1.9.0->retina-face) (0.37.1)\n",
            "Requirement already satisfied: cached-property in /usr/local/lib/python3.7/dist-packages (from h5py>=2.9.0->tensorflow>=1.9.0->retina-face) (1.5.2)\n",
            "Requirement already satisfied: tensorboard-plugin-wit>=1.6.0 in /usr/local/lib/python3.7/dist-packages (from tensorboard<2.9,>=2.8->tensorflow>=1.9.0->retina-face) (1.8.1)\n",
            "Requirement already satisfied: werkzeug>=0.11.15 in /usr/local/lib/python3.7/dist-packages (from tensorboard<2.9,>=2.8->tensorflow>=1.9.0->retina-face) (1.0.1)\n",
            "Requirement already satisfied: google-auth<3,>=1.6.3 in /usr/local/lib/python3.7/dist-packages (from tensorboard<2.9,>=2.8->tensorflow>=1.9.0->retina-face) (1.35.0)\n",
            "Requirement already satisfied: tensorboard-data-server<0.7.0,>=0.6.0 in /usr/local/lib/python3.7/dist-packages (from tensorboard<2.9,>=2.8->tensorflow>=1.9.0->retina-face) (0.6.1)\n",
            "Requirement already satisfied: google-auth-oauthlib<0.5,>=0.4.1 in /usr/local/lib/python3.7/dist-packages (from tensorboard<2.9,>=2.8->tensorflow>=1.9.0->retina-face) (0.4.6)\n",
            "Requirement already satisfied: markdown>=2.6.8 in /usr/local/lib/python3.7/dist-packages (from tensorboard<2.9,>=2.8->tensorflow>=1.9.0->retina-face) (3.3.7)\n",
            "Requirement already satisfied: rsa<5,>=3.1.4 in /usr/local/lib/python3.7/dist-packages (from google-auth<3,>=1.6.3->tensorboard<2.9,>=2.8->tensorflow>=1.9.0->retina-face) (4.8)\n",
            "Requirement already satisfied: pyasn1-modules>=0.2.1 in /usr/local/lib/python3.7/dist-packages (from google-auth<3,>=1.6.3->tensorboard<2.9,>=2.8->tensorflow>=1.9.0->retina-face) (0.2.8)\n",
            "Requirement already satisfied: cachetools<5.0,>=2.0.0 in /usr/local/lib/python3.7/dist-packages (from google-auth<3,>=1.6.3->tensorboard<2.9,>=2.8->tensorflow>=1.9.0->retina-face) (4.2.4)\n",
            "Requirement already satisfied: requests-oauthlib>=0.7.0 in /usr/local/lib/python3.7/dist-packages (from google-auth-oauthlib<0.5,>=0.4.1->tensorboard<2.9,>=2.8->tensorflow>=1.9.0->retina-face) (1.3.1)\n",
            "Requirement already satisfied: importlib-metadata>=4.4 in /usr/local/lib/python3.7/dist-packages (from markdown>=2.6.8->tensorboard<2.9,>=2.8->tensorflow>=1.9.0->retina-face) (4.11.4)\n",
            "Requirement already satisfied: zipp>=0.5 in /usr/local/lib/python3.7/dist-packages (from importlib-metadata>=4.4->markdown>=2.6.8->tensorboard<2.9,>=2.8->tensorflow>=1.9.0->retina-face) (3.8.0)\n",
            "Requirement already satisfied: pyasn1<0.5.0,>=0.4.6 in /usr/local/lib/python3.7/dist-packages (from pyasn1-modules>=0.2.1->google-auth<3,>=1.6.3->tensorboard<2.9,>=2.8->tensorflow>=1.9.0->retina-face) (0.4.8)\n",
            "Requirement already satisfied: urllib3!=1.25.0,!=1.25.1,<1.26,>=1.21.1 in /usr/local/lib/python3.7/dist-packages (from requests[socks]->gdown>=3.10.1->retina-face) (1.24.3)\n",
            "Requirement already satisfied: certifi>=2017.4.17 in /usr/local/lib/python3.7/dist-packages (from requests[socks]->gdown>=3.10.1->retina-face) (2022.6.15)\n",
            "Requirement already satisfied: idna<3,>=2.5 in /usr/local/lib/python3.7/dist-packages (from requests[socks]->gdown>=3.10.1->retina-face) (2.10)\n",
            "Requirement already satisfied: chardet<4,>=3.0.2 in /usr/local/lib/python3.7/dist-packages (from requests[socks]->gdown>=3.10.1->retina-face) (3.0.4)\n",
            "Requirement already satisfied: oauthlib>=3.0.0 in /usr/local/lib/python3.7/dist-packages (from requests-oauthlib>=0.7.0->google-auth-oauthlib<0.5,>=0.4.1->tensorboard<2.9,>=2.8->tensorflow>=1.9.0->retina-face) (3.2.0)\n",
            "Requirement already satisfied: PySocks!=1.5.7,>=1.5.6 in /usr/local/lib/python3.7/dist-packages (from requests[socks]->gdown>=3.10.1->retina-face) (1.7.1)\n",
            "Installing collected packages: retina-face\n",
            "Successfully installed retina-face-0.0.12\n"
          ]
        }
      ]
    },
    {
      "cell_type": "code",
      "source": [
        "from retinaface import RetinaFace\n",
        "import matplotlib.pyplot as plt\n",
        "import os\n",
        "import cv2\n",
        "\n",
        "save_path = '/content/drive/MyDrive/BTL CV 20212/CV/faces'\n",
        "path = '/content/drive/MyDrive/BTL CV 20212/CV/Dataframe/'\n",
        "\n",
        "for folder in os.listdir(path):\n",
        "  if (folder != 'Unknown'):\n",
        "    continue;\n",
        "  print (folder )\n",
        "  files = path + \"/\" + folder\n",
        "\n",
        "  path_to_save = save_path + \"/\" + folder  \n",
        "  os.mkdir(path_to_save)\n",
        "\n",
        "  count = 0\n",
        "\n",
        "  for f in os.listdir(files):\n",
        "    print (f)\n",
        "    image_path = files + \"/\" + f\n",
        "\n",
        "    res = RetinaFace.detect_faces(img_path = image_path)\n",
        "\n",
        "    # check if RetinaFace cannot detect face\n",
        "    if (isinstance(res, tuple)):\n",
        "      continue;\n",
        "\n",
        "    axis = res[\"face_1\"][\"facial_area\"]\n",
        "\n",
        "    img = cv2.imread(image_path)\n",
        "    cropped_image = img[axis[1]:axis[3], axis[0]:axis[2]]\n",
        "\n",
        "    cv2.imwrite(os.path.join(path_to_save, f\"{count}.jpg\"), cropped_image) \n",
        "    count += 1\n"
      ],
      "metadata": {
        "colab": {
          "base_uri": "https://localhost:8080/"
        },
        "id": "L3-FvdAjRvdZ",
        "outputId": "7518fcdc-c75d-4ca1-ef29-0c358a1d4284"
      },
      "execution_count": null,
      "outputs": [
        {
          "output_type": "stream",
          "name": "stdout",
          "text": [
            "Unknown\n",
            "20160613-024757-7b60002687fd20a9a57_358x441.jpg\n",
            "Directory  /root /.deepface created\n",
            "Directory  /root /.deepface/weights created\n",
            "retinaface.h5 will be downloaded from the url https://github.com/serengil/deepface_models/releases/download/v1.0/retinaface.h5\n"
          ]
        },
        {
          "output_type": "stream",
          "name": "stderr",
          "text": [
            "Downloading...\n",
            "From: https://github.com/serengil/deepface_models/releases/download/v1.0/retinaface.h5\n",
            "To: /root/.deepface/weights/retinaface.h5\n",
            "100%|██████████| 119M/119M [00:02<00:00, 47.1MB/s]\n"
          ]
        },
        {
          "output_type": "stream",
          "name": "stdout",
          "text": [
            "1625992439-590a8d3328532898afe5b8d4585918e0-width650height650.jpg\n",
            "1625992440-d8ac63c4cc011c57134dc171a78cc958-width709height914.jpg\n",
            "20160613-024809-7a600076ee4905045d3_354x413.jpg\n",
            "0d18b7af57d7fdf390edafb21403cfa4.jpg\n",
            "61103071_2361422507447925_6222318223514140672_n_1.jpg\n",
            "20160613-025009-7a600076efcb41c5cf0_358x441.jpg\n",
            "20160613-024236-7b600026877f9ec5f6f_358x441.jpg\n",
            "20160613-023934-7b6000268758bc5fda2_358x441.jpg\n",
            "20160613-024008-7a600076edbdd99d8b2_358x441.jpg\n",
            "20160613-023940-7a600076edc688f7b99_358x441.jpg\n",
            "sao-viet-anh-the-6-5e5ce18c77901.jpg\n",
            "ngo-ngang-voi-ve-dep-cua-hot-girl-anh-the-chua-tron-18-docx-1622043349706.webp\n",
            "taeheejpg1349493486.jpg\n",
            "mau-anh-the-dep-lam-the-can-cuoc.jpg\n",
            "photographer-156784.jpg\n",
            "seohyun10jpg1349492983.jpg\n",
            "nhan-sac-cua-kim-bum-anh-the-ma-trong-nhu-tac-tuong-94e178d0.jpg\n",
            "photo-1-1590311162571565188046.jpg\n",
            "luu-diec-phi.webp\n",
            "review-3-tim-chp-nh-th-ly-ngay-p-nht-h-giang-nm-2021-032.jpg\n",
            "jhjh-1-768x1024.jpg\n",
            "le-ly-lan-huong-01.webp\n",
            "images (6).jpg\n",
            "images.jpg\n",
            "img0096-1592366363868430058761-1593507888983990295582.webp\n",
            "images (8).jpg\n",
            "images (9).jpg\n",
            "kimsoohyun6jpg1349492983.jpg\n",
            "images (5).jpg\n",
            "images (7).jpg\n",
            "images (4).jpg\n",
            "dino-studio-anh-vien-cho-be-va-gia-dinh-317623.jpg\n",
            "hieu-anh-hoang-dung-318154.jpg\n",
            "images (3).jpg\n",
            "images (2).jpg\n",
            "duhoctrungquoc.vn_1-159851977377620122090001612354200.jpg\n",
            "goohyesunjpg1349493385.jpg\n",
            "images (1).jpg\n",
            "images (10).jpg\n",
            "d4-1.jpg\n",
            "c-6.jpg\n",
            "anh-the-3_20200819144021.jpg\n",
            "chup-anh-the-da-nang-4-1.jpg\n",
            "anh-the-nam-dep-nhat_100828554.jpg\n",
            "cach chup anh the dep 8.jpg\n",
            "cach-chup-anh-the-dep-cho-nam-2_grande.webp\n",
            "anh-the-cua-tfboys-duoc-khen-ngoi-vuong-nguyen-thanh-tu-dich-duong-thien-ti-moc-mac-de-nhin-813-4749943.png\n",
            "90e6c622904bc659e85f42d42186ac17.jpg\n",
            "6118-iqrhckn2657803.jpg\n",
            "tiem-chup-anh-the-334-321384.jpg\n",
            "unnamed.jpg\n",
            "tải xuống.jpg\n",
            "truong-ba-chi-1-ngoisao.vn-w600-h991.jpg\n",
            "Tân.jpg\n"
          ]
        }
      ]
    },
    {
      "cell_type": "markdown",
      "source": [
        "# PCA"
      ],
      "metadata": {
        "id": "1nSmNQ3d8IvZ"
      }
    },
    {
      "cell_type": "code",
      "source": [
        "import numpy as np\n",
        "import os\n",
        "import matplotlib.pyplot as plt\n",
        "from sklearn.decomposition import PCA\n",
        "from tensorflow.keras.utils import to_categorical\n",
        "from keras.preprocessing.image import img_to_array\n",
        "from keras.preprocessing.image import load_img"
      ],
      "metadata": {
        "id": "OxFWZa8NDQxs"
      },
      "execution_count": null,
      "outputs": []
    },
    {
      "cell_type": "code",
      "source": [
        "train_faces = []\n",
        "y = []\n",
        "classes = []\n",
        "\n",
        "path = '/content/drive/MyDrive/BTL CV 20212/CV/faces/'\n",
        "\n",
        "i = 0\n",
        "for folder in os.listdir(path):\n",
        "    classes.append(folder)\n",
        "    a = 0\n",
        "    print(folder +': ' + str(i))\n",
        "    for filename in os.listdir(os.path.join(path, folder)):\n",
        "        y.append(i)\n",
        "        \n",
        "        img = load_img(path + '/' + folder + '/' + filename, target_size=(299, 299))\n",
        "        img_arr = img_to_array(img)\n",
        "        image = np.expand_dims(img_arr, 0)\n",
        "        # image = preprocess_input(image)\n",
        "\n",
        "        image_gray = np.mean(image, axis=3)\n",
        "        train_faces.append(image_gray)\n",
        "        a += 1\n",
        "    print('Added {} images of {}'.format(a, folder))\n",
        "    print('')\n",
        "    i += 1\n",
        "# classes.append(i)"
      ],
      "metadata": {
        "execution": {
          "iopub.status.busy": "2022-04-10T18:28:40.690183Z",
          "iopub.execute_input": "2022-04-10T18:28:40.690447Z",
          "iopub.status.idle": "2022-04-10T18:28:44.665356Z",
          "shell.execute_reply.started": "2022-04-10T18:28:40.690417Z",
          "shell.execute_reply": "2022-04-10T18:28:44.664567Z"
        },
        "trusted": true,
        "id": "peFAPhLm6E8P",
        "colab": {
          "base_uri": "https://localhost:8080/"
        },
        "outputId": "1bd5a978-9699-402e-e449-2d20b0a520b1"
      },
      "execution_count": null,
      "outputs": [
        {
          "output_type": "stream",
          "name": "stdout",
          "text": [
            "Thu: 0\n",
            "Added 46 images of Thu\n",
            "\n",
            "Chau: 1\n",
            "Added 115 images of Chau\n",
            "\n",
            "LeVan: 2\n",
            "Added 111 images of LeVan\n",
            "\n",
            "VAnh: 3\n",
            "Added 120 images of VAnh\n",
            "\n",
            "Linh: 4\n",
            "Added 71 images of Linh\n",
            "\n",
            "Thang: 5\n",
            "Added 85 images of Thang\n",
            "\n",
            "Kien: 6\n",
            "Added 73 images of Kien\n",
            "\n",
            "Van: 7\n",
            "Added 74 images of Van\n",
            "\n",
            "Tan: 8\n",
            "Added 82 images of Tan\n",
            "\n",
            "Quan: 9\n",
            "Added 71 images of Quan\n",
            "\n",
            "Tuan: 10\n",
            "Added 77 images of Tuan\n",
            "\n",
            "Truong: 11\n",
            "Added 83 images of Truong\n",
            "\n",
            "XAnh: 12\n",
            "Added 72 images of XAnh\n",
            "\n",
            "Hieu: 13\n",
            "Added 74 images of Hieu\n",
            "\n",
            "Hung: 14\n",
            "Added 72 images of Hung\n",
            "\n",
            "HDuc: 15\n",
            "Added 88 images of HDuc\n",
            "\n",
            "Duc: 16\n",
            "Added 72 images of Duc\n",
            "\n",
            "VDuc: 17\n",
            "Added 77 images of VDuc\n",
            "\n",
            "Unknown: 18\n",
            "Added 55 images of Unknown\n",
            "\n"
          ]
        }
      ]
    },
    {
      "cell_type": "code",
      "source": [
        "train_faces = np.concatenate(train_faces, axis=0)"
      ],
      "metadata": {
        "execution": {
          "iopub.status.busy": "2022-04-10T18:35:41.898571Z",
          "iopub.execute_input": "2022-04-10T18:35:41.898848Z",
          "iopub.status.idle": "2022-04-10T18:35:43.165766Z",
          "shell.execute_reply.started": "2022-04-10T18:35:41.898819Z",
          "shell.execute_reply": "2022-04-10T18:35:43.164427Z"
        },
        "trusted": true,
        "id": "uqYfaCpm6E8S"
      },
      "execution_count": null,
      "outputs": []
    },
    {
      "cell_type": "code",
      "source": [
        "target_names = np.array(classes)\n",
        "y = np.array(y)"
      ],
      "metadata": {
        "id": "tezrruDU3MV7"
      },
      "execution_count": null,
      "outputs": []
    },
    {
      "cell_type": "code",
      "source": [
        ""
      ],
      "metadata": {
        "id": "XDa_xQWO35QF"
      },
      "execution_count": null,
      "outputs": []
    },
    {
      "cell_type": "code",
      "source": [
        "X = []\n",
        "for face in train_faces:\n",
        "  X.append(face.flatten())\n",
        " \n",
        "# Create facematrix as (n_samples,n_pixels) matrix\n",
        "X = np.array(X)"
      ],
      "metadata": {
        "id": "smgENubcy0gq"
      },
      "execution_count": null,
      "outputs": []
    },
    {
      "cell_type": "code",
      "source": [
        "print(X.shape)"
      ],
      "metadata": {
        "colab": {
          "base_uri": "https://localhost:8080/"
        },
        "id": "sw3EHDqR2ZaZ",
        "outputId": "a364e3f3-2d6b-456e-8b99-75050d2f13e6"
      },
      "execution_count": null,
      "outputs": [
        {
          "output_type": "stream",
          "name": "stdout",
          "text": [
            "(1518, 89401)\n"
          ]
        }
      ]
    },
    {
      "cell_type": "code",
      "source": [
        "n_samples, h, w = train_faces.shape\n",
        "n_classes = target_names.shape[0]\n",
        "n_features = X.shape[1]\n",
        "\n",
        "print(\"Number of Data Samples: % d\" % n_samples)\n",
        "print(\"Size of a data sample: % d\" % n_features)\n",
        "print(\"Number of Class Labels: % d\" % n_classes)"
      ],
      "metadata": {
        "colab": {
          "base_uri": "https://localhost:8080/"
        },
        "id": "2q0RT84k2Sw8",
        "outputId": "9ba6ea08-e360-48c1-baa8-c225dbb867d9"
      },
      "execution_count": null,
      "outputs": [
        {
          "output_type": "stream",
          "name": "stdout",
          "text": [
            "Number of Data Samples:  1518\n",
            "Size of a data sample:  89401\n",
            "Number of Class Labels:  19\n"
          ]
        }
      ]
    },
    {
      "cell_type": "code",
      "source": [
        "def plot_gallery(images, titles, h, w, n_row = 3, n_col = 4):\n",
        "    plt.figure(figsize =(1.8 * n_col, 2.4 * n_row))\n",
        "    plt.subplots_adjust(bottom = 0, left =.01, right =.99, top =.90, hspace =.35)\n",
        "    for i in range(n_row * n_col):\n",
        "        plt.subplot(n_row, n_col, i + 1)\n",
        "        plt.imshow(images[i].reshape((h, w)), cmap = plt.cm.gray)\n",
        "        plt.title(titles[i], size = 12)\n",
        "        plt.xticks(())\n",
        "        plt.yticks(())\n",
        " \n",
        "# Generate true labels above the images\n",
        "def true_title(Y, target_names, i):\n",
        "    true_name = target_names[Y[i]].rsplit(' ', 1)[-1]\n",
        "    return 'true label:   % s' % (true_name)\n",
        " \n",
        "true_titles = [true_title(y, target_names, i) for i in range(y.shape[0])]\n",
        "plot_gallery(X, true_titles, h, w)"
      ],
      "metadata": {
        "colab": {
          "base_uri": "https://localhost:8080/",
          "height": 501
        },
        "id": "t_nrhxR63s2y",
        "outputId": "a36a1d3e-7fb6-4e10-dd02-2988d170856f"
      },
      "execution_count": null,
      "outputs": [
        {
          "output_type": "display_data",
          "data": {
            "text/plain": [
              "<Figure size 518.4x518.4 with 12 Axes>"
            ],
            "image/png": "[encoded data removed]"
          },
          "metadata": {}
        }
      ]
    },
    {
      "cell_type": "code",
      "source": [
        "X_train, X_test, y_train, y_test = train_test_split(X, y, test_size = 0.25, random_state = 42)\n",
        "print(\"size of training Data is % d and Testing Data is % d\" %(\n",
        "        y_train.shape[0], y_test.shape[0]))"
      ],
      "metadata": {
        "colab": {
          "base_uri": "https://localhost:8080/"
        },
        "id": "ksVt1PMM5VZd",
        "outputId": "49390c96-9add-4e9d-9915-e9a813f354df"
      },
      "execution_count": null,
      "outputs": [
        {
          "output_type": "stream",
          "name": "stdout",
          "text": [
            "size of training Data is  1138 and Testing Data is  380\n"
          ]
        }
      ]
    },
    {
      "cell_type": "code",
      "source": [
        "n_components = 150\n",
        " \n",
        "pca = PCA(n_components = n_components, svd_solver ='randomized',\n",
        "          whiten = True).fit(X_train)\n",
        " \n",
        "eigenfaces = pca.components_.reshape((n_components, h, w))\n",
        " \n",
        "print(\"Projecting the input data on the eigenfaces orthonormal basis\")\n",
        "X_train_pca = pca.transform(X_train)\n",
        "X_test_pca = pca.transform(X_test)"
      ],
      "metadata": {
        "colab": {
          "base_uri": "https://localhost:8080/"
        },
        "id": "gWA-Tigd5csa",
        "outputId": "4b06a236-2a31-43e7-96c0-090e304889a0"
      },
      "execution_count": null,
      "outputs": [
        {
          "output_type": "stream",
          "name": "stdout",
          "text": [
            "Projecting the input data on the eigenfaces orthonormal basis\n"
          ]
        }
      ]
    },
    {
      "cell_type": "code",
      "source": [
        "pca = PCA().fit(X_train)\n",
        "\n",
        "% matplotlib inline\n",
        "import matplotlib.pyplot as plt\n",
        "plt.rcParams[\"figure.figsize\"] = (12,6)\n",
        "\n",
        "fig, ax = plt.subplots()\n",
        "xi = np.arange(1, 11, step=1)\n",
        "y = np.cumsum(pca.explained_variance_ratio_)\n",
        "\n",
        "plt.ylim(0.0,1.1)\n",
        "plt.plot(X_train, y_train, marker='o', linestyle='--', color='b')\n",
        "\n",
        "plt.xlabel('Number of Components')\n",
        "plt.xticks(np.arange(0, 11, step=1)) #change from 0-based array index to 1-based human-readable label\n",
        "plt.ylabel('Cumulative variance (%)')\n",
        "plt.title('The number of components needed to explain variance')\n",
        "\n",
        "plt.axhline(y=0.95, color='r', linestyle='-')\n",
        "plt.text(0.5, 0.85, '95% cut-off threshold', color = 'red', fontsize=16)\n",
        "\n",
        "ax.grid(axis='x')\n",
        "plt.show()"
      ],
      "metadata": {
        "colab": {
          "base_uri": "https://localhost:8080/",
          "height": 380
        },
        "id": "Ox6OpFBR0ZBQ",
        "outputId": "d86fe2fc-359f-4515-a012-2847ab3159fa"
      },
      "execution_count": null,
      "outputs": [
        {
          "output_type": "error",
          "ename": "KeyboardInterrupt",
          "evalue": "ignored",
          "traceback": [
            "\u001b[0;31m---------------------------------------------------------------------------\u001b[0m",
            "\u001b[0;31mKeyboardInterrupt\u001b[0m                         Traceback (most recent call last)",
            "\u001b[0;32m<ipython-input-13-4968790c7d8e>\u001b[0m in \u001b[0;36m<module>\u001b[0;34m()\u001b[0m\n\u001b[0;32m----> 1\u001b[0;31m \u001b[0mpca\u001b[0m \u001b[0;34m=\u001b[0m \u001b[0mPCA\u001b[0m\u001b[0;34m(\u001b[0m\u001b[0;34m)\u001b[0m\u001b[0;34m.\u001b[0m\u001b[0mfit\u001b[0m\u001b[0;34m(\u001b[0m\u001b[0mX_train\u001b[0m\u001b[0;34m)\u001b[0m\u001b[0;34m\u001b[0m\u001b[0;34m\u001b[0m\u001b[0m\n\u001b[0m\u001b[1;32m      2\u001b[0m \u001b[0;34m\u001b[0m\u001b[0m\n\u001b[1;32m      3\u001b[0m \u001b[0mget_ipython\u001b[0m\u001b[0;34m(\u001b[0m\u001b[0;34m)\u001b[0m\u001b[0;34m.\u001b[0m\u001b[0mmagic\u001b[0m\u001b[0;34m(\u001b[0m\u001b[0;34m'matplotlib inline'\u001b[0m\u001b[0;34m)\u001b[0m\u001b[0;34m\u001b[0m\u001b[0;34m\u001b[0m\u001b[0m\n\u001b[1;32m      4\u001b[0m \u001b[0;32mimport\u001b[0m \u001b[0mmatplotlib\u001b[0m\u001b[0;34m.\u001b[0m\u001b[0mpyplot\u001b[0m \u001b[0;32mas\u001b[0m \u001b[0mplt\u001b[0m\u001b[0;34m\u001b[0m\u001b[0;34m\u001b[0m\u001b[0m\n\u001b[1;32m      5\u001b[0m \u001b[0mplt\u001b[0m\u001b[0;34m.\u001b[0m\u001b[0mrcParams\u001b[0m\u001b[0;34m[\u001b[0m\u001b[0;34m\"figure.figsize\"\u001b[0m\u001b[0;34m]\u001b[0m \u001b[0;34m=\u001b[0m \u001b[0;34m(\u001b[0m\u001b[0;36m12\u001b[0m\u001b[0;34m,\u001b[0m\u001b[0;36m6\u001b[0m\u001b[0;34m)\u001b[0m\u001b[0;34m\u001b[0m\u001b[0;34m\u001b[0m\u001b[0m\n",
            "\u001b[0;32m/usr/local/lib/python3.7/dist-packages/sklearn/decomposition/_pca.py\u001b[0m in \u001b[0;36mfit\u001b[0;34m(self, X, y)\u001b[0m\n\u001b[1;32m    380\u001b[0m             \u001b[0mReturns\u001b[0m \u001b[0mthe\u001b[0m \u001b[0minstance\u001b[0m \u001b[0mitself\u001b[0m\u001b[0;34m.\u001b[0m\u001b[0;34m\u001b[0m\u001b[0;34m\u001b[0m\u001b[0m\n\u001b[1;32m    381\u001b[0m         \"\"\"\n\u001b[0;32m--> 382\u001b[0;31m         \u001b[0mself\u001b[0m\u001b[0;34m.\u001b[0m\u001b[0m_fit\u001b[0m\u001b[0;34m(\u001b[0m\u001b[0mX\u001b[0m\u001b[0;34m)\u001b[0m\u001b[0;34m\u001b[0m\u001b[0;34m\u001b[0m\u001b[0m\n\u001b[0m\u001b[1;32m    383\u001b[0m         \u001b[0;32mreturn\u001b[0m \u001b[0mself\u001b[0m\u001b[0;34m\u001b[0m\u001b[0;34m\u001b[0m\u001b[0m\n\u001b[1;32m    384\u001b[0m \u001b[0;34m\u001b[0m\u001b[0m\n",
            "\u001b[0;32m/usr/local/lib/python3.7/dist-packages/sklearn/decomposition/_pca.py\u001b[0m in \u001b[0;36m_fit\u001b[0;34m(self, X)\u001b[0m\n\u001b[1;32m    455\u001b[0m         \u001b[0;31m# Call different fits for either full or truncated SVD\u001b[0m\u001b[0;34m\u001b[0m\u001b[0;34m\u001b[0m\u001b[0;34m\u001b[0m\u001b[0m\n\u001b[1;32m    456\u001b[0m         \u001b[0;32mif\u001b[0m \u001b[0mself\u001b[0m\u001b[0;34m.\u001b[0m\u001b[0m_fit_svd_solver\u001b[0m \u001b[0;34m==\u001b[0m \u001b[0;34m\"full\"\u001b[0m\u001b[0;34m:\u001b[0m\u001b[0;34m\u001b[0m\u001b[0;34m\u001b[0m\u001b[0m\n\u001b[0;32m--> 457\u001b[0;31m             \u001b[0;32mreturn\u001b[0m \u001b[0mself\u001b[0m\u001b[0;34m.\u001b[0m\u001b[0m_fit_full\u001b[0m\u001b[0;34m(\u001b[0m\u001b[0mX\u001b[0m\u001b[0;34m,\u001b[0m \u001b[0mn_components\u001b[0m\u001b[0;34m)\u001b[0m\u001b[0;34m\u001b[0m\u001b[0;34m\u001b[0m\u001b[0m\n\u001b[0m\u001b[1;32m    458\u001b[0m         \u001b[0;32melif\u001b[0m \u001b[0mself\u001b[0m\u001b[0;34m.\u001b[0m\u001b[0m_fit_svd_solver\u001b[0m \u001b[0;32min\u001b[0m \u001b[0;34m[\u001b[0m\u001b[0;34m\"arpack\"\u001b[0m\u001b[0;34m,\u001b[0m \u001b[0;34m\"randomized\"\u001b[0m\u001b[0;34m]\u001b[0m\u001b[0;34m:\u001b[0m\u001b[0;34m\u001b[0m\u001b[0;34m\u001b[0m\u001b[0m\n\u001b[1;32m    459\u001b[0m             \u001b[0;32mreturn\u001b[0m \u001b[0mself\u001b[0m\u001b[0;34m.\u001b[0m\u001b[0m_fit_truncated\u001b[0m\u001b[0;34m(\u001b[0m\u001b[0mX\u001b[0m\u001b[0;34m,\u001b[0m \u001b[0mn_components\u001b[0m\u001b[0;34m,\u001b[0m \u001b[0mself\u001b[0m\u001b[0;34m.\u001b[0m\u001b[0m_fit_svd_solver\u001b[0m\u001b[0;34m)\u001b[0m\u001b[0;34m\u001b[0m\u001b[0;34m\u001b[0m\u001b[0m\n",
            "\u001b[0;32m/usr/local/lib/python3.7/dist-packages/sklearn/decomposition/_pca.py\u001b[0m in \u001b[0;36m_fit_full\u001b[0;34m(self, X, n_components)\u001b[0m\n\u001b[1;32m    490\u001b[0m         \u001b[0mX\u001b[0m \u001b[0;34m-=\u001b[0m \u001b[0mself\u001b[0m\u001b[0;34m.\u001b[0m\u001b[0mmean_\u001b[0m\u001b[0;34m\u001b[0m\u001b[0;34m\u001b[0m\u001b[0m\n\u001b[1;32m    491\u001b[0m \u001b[0;34m\u001b[0m\u001b[0m\n\u001b[0;32m--> 492\u001b[0;31m         \u001b[0mU\u001b[0m\u001b[0;34m,\u001b[0m \u001b[0mS\u001b[0m\u001b[0;34m,\u001b[0m \u001b[0mVt\u001b[0m \u001b[0;34m=\u001b[0m \u001b[0mlinalg\u001b[0m\u001b[0;34m.\u001b[0m\u001b[0msvd\u001b[0m\u001b[0;34m(\u001b[0m\u001b[0mX\u001b[0m\u001b[0;34m,\u001b[0m \u001b[0mfull_matrices\u001b[0m\u001b[0;34m=\u001b[0m\u001b[0;32mFalse\u001b[0m\u001b[0;34m)\u001b[0m\u001b[0;34m\u001b[0m\u001b[0;34m\u001b[0m\u001b[0m\n\u001b[0m\u001b[1;32m    493\u001b[0m         \u001b[0;31m# flip eigenvectors' sign to enforce deterministic output\u001b[0m\u001b[0;34m\u001b[0m\u001b[0;34m\u001b[0m\u001b[0;34m\u001b[0m\u001b[0m\n\u001b[1;32m    494\u001b[0m         \u001b[0mU\u001b[0m\u001b[0;34m,\u001b[0m \u001b[0mVt\u001b[0m \u001b[0;34m=\u001b[0m \u001b[0msvd_flip\u001b[0m\u001b[0;34m(\u001b[0m\u001b[0mU\u001b[0m\u001b[0;34m,\u001b[0m \u001b[0mVt\u001b[0m\u001b[0;34m)\u001b[0m\u001b[0;34m\u001b[0m\u001b[0;34m\u001b[0m\u001b[0m\n",
            "\u001b[0;32m/usr/local/lib/python3.7/dist-packages/scipy/linalg/decomp_svd.py\u001b[0m in \u001b[0;36msvd\u001b[0;34m(a, full_matrices, compute_uv, overwrite_a, check_finite, lapack_driver)\u001b[0m\n\u001b[1;32m    127\u001b[0m     \u001b[0;31m# perform decomposition\u001b[0m\u001b[0;34m\u001b[0m\u001b[0;34m\u001b[0m\u001b[0;34m\u001b[0m\u001b[0m\n\u001b[1;32m    128\u001b[0m     u, s, v, info = gesXd(a1, compute_uv=compute_uv, lwork=lwork,\n\u001b[0;32m--> 129\u001b[0;31m                           full_matrices=full_matrices, overwrite_a=overwrite_a)\n\u001b[0m\u001b[1;32m    130\u001b[0m \u001b[0;34m\u001b[0m\u001b[0m\n\u001b[1;32m    131\u001b[0m     \u001b[0;32mif\u001b[0m \u001b[0minfo\u001b[0m \u001b[0;34m>\u001b[0m \u001b[0;36m0\u001b[0m\u001b[0;34m:\u001b[0m\u001b[0;34m\u001b[0m\u001b[0;34m\u001b[0m\u001b[0m\n",
            "\u001b[0;31mKeyboardInterrupt\u001b[0m: "
          ]
        }
      ]
    },
    {
      "cell_type": "markdown",
      "source": [
        "# SVM"
      ],
      "metadata": {
        "id": "rHqAZYY_1MrA"
      }
    },
    {
      "cell_type": "code",
      "source": [
        "from sklearn.model_selection import GridSearchCV\n",
        "from sklearn.metrics import classification_report\n",
        "from sklearn.svm import SVC"
      ],
      "metadata": {
        "id": "odGppeeM1O_j"
      },
      "execution_count": null,
      "outputs": []
    },
    {
      "cell_type": "code",
      "source": [
        "print(\"Fitting the classifier to the training set\")\n",
        "param_grid = {'C': [1e3, 5e3, 1e4, 5e4, 1e5],\n",
        "              'gamma': [0.0001, 0.0005, 0.001, 0.005, 0.01, 0.1], }\n",
        "clf = GridSearchCV(\n",
        "    SVC(kernel ='rbf', class_weight ='balanced'), param_grid\n",
        ")\n",
        "clf = clf.fit(X_train_pca, y_train)\n",
        "print(\"Best estimator found by grid search:\")\n",
        "print(clf.best_estimator_)\n",
        " \n",
        "print(\"Predicting people's names on the test set\")\n",
        "y_pred = clf.predict(X_test_pca)\n",
        "# print classification results\n",
        "print(classification_report(y_test, y_pred, target_names = target_names))\n",
        "# print confusion matrix"
      ],
      "metadata": {
        "colab": {
          "base_uri": "https://localhost:8080/"
        },
        "id": "8e3cPGv25e27",
        "outputId": "f17a610d-1f65-4831-fa74-e1f61bd74f73"
      },
      "execution_count": null,
      "outputs": [
        {
          "output_type": "stream",
          "name": "stdout",
          "text": [
            "Fitting the classifier to the training set\n",
            "Best estimator found by grid search:\n",
            "SVC(C=1000.0, class_weight='balanced', gamma=0.001)\n",
            "Predicting people's names on the test set\n",
            "              precision    recall  f1-score   support\n",
            "\n",
            "         Thu       1.00      1.00      1.00         9\n",
            "        Chau       1.00      1.00      1.00        24\n",
            "       LeVan       1.00      1.00      1.00        29\n",
            "        VAnh       1.00      1.00      1.00        31\n",
            "        Linh       1.00      1.00      1.00        22\n",
            "       Thang       1.00      1.00      1.00        17\n",
            "        Kien       0.95      1.00      0.98        21\n",
            "         Van       0.94      1.00      0.97        16\n",
            "         Tan       1.00      1.00      1.00        17\n",
            "        Quan       0.89      0.84      0.86        19\n",
            "        Tuan       0.93      1.00      0.97        14\n",
            "      Truong       1.00      1.00      1.00        26\n",
            "        XAnh       1.00      0.89      0.94        18\n",
            "        Hieu       1.00      1.00      1.00        18\n",
            "        Hung       0.95      0.91      0.93        23\n",
            "        HDuc       1.00      0.96      0.98        25\n",
            "         Duc       0.95      1.00      0.97        19\n",
            "        VDuc       0.85      0.89      0.87        19\n",
            "     Unknown       1.00      1.00      1.00        13\n",
            "\n",
            "    accuracy                           0.97       380\n",
            "   macro avg       0.97      0.97      0.97       380\n",
            "weighted avg       0.97      0.97      0.97       380\n",
            "\n"
          ]
        }
      ]
    },
    {
      "cell_type": "markdown",
      "source": [
        "# TEST"
      ],
      "metadata": {
        "id": "KaVffrq57d5d"
      }
    },
    {
      "cell_type": "code",
      "source": [
        "from retinaface import RetinaFace\n",
        "import matplotlib.pyplot as plt\n",
        "import os\n",
        "import cv2\n",
        "\n",
        "save_path = '/content/drive/MyDrive/BTL CV 20212/CV/test_faces'\n",
        "path = '/content/drive/MyDrive/BTL CV 20212/CV/test_dataframe/'\n",
        "\n",
        "for folder in os.listdir(path):\n",
        "  print (folder )\n",
        "  files = path + \"/\" + folder\n",
        "\n",
        "  path_to_save = save_path + \"/\" + folder  \n",
        "  os.mkdir(path_to_save)\n",
        "\n",
        "  count = 0\n",
        "\n",
        "  for f in os.listdir(files):\n",
        "    print (f)\n",
        "    image_path = files + \"/\" + f\n",
        "\n",
        "    res = RetinaFace.detect_faces(img_path = image_path)\n",
        "\n",
        "    # check if RetinaFace cannot detect face\n",
        "    if (isinstance(res, tuple)):\n",
        "      continue;\n",
        "\n",
        "    axis = res[\"face_1\"][\"facial_area\"]\n",
        "\n",
        "    img = cv2.imread(image_path)\n",
        "    cropped_image = img[axis[1]:axis[3], axis[0]:axis[2]]\n",
        "\n",
        "    cv2.imwrite(os.path.join(path_to_save, f\"{count}.jpg\"), cropped_image) \n",
        "    count += 1\n"
      ],
      "metadata": {
        "colab": {
          "base_uri": "https://localhost:8080/"
        },
        "id": "UiDChY7q7gMi",
        "outputId": "6b8fc809-2e8e-406c-b735-2604fbd539d9"
      },
      "execution_count": null,
      "outputs": [
        {
          "output_type": "stream",
          "name": "stdout",
          "text": [
            "Chau\n",
            "1.0.jpg\n",
            "2.0.jpg\n",
            "3.0.jpg\n",
            "4.0.jpg\n",
            "5.0.jpg\n",
            "VAnh\n",
            "1.0.jpg\n",
            "2.0.jpg\n",
            "3.0.jpg\n",
            "4.0.jpg\n",
            "Unknown\n",
            "1.jpg\n",
            "images.jpg\n",
            "close-up-face-of-asian-smiling-attractive-woman-talking-and-looking-at-camera-in-office-happy-business-woman-designer-look-at-camera-and-smile-via-online-call-free-video.jpg\n",
            "istockphoto-1362830342-640x640.jpg\n",
            "Thu\n",
            "WIN_20220703_11_35_30_Pro.jpg\n",
            "WIN_20220703_11_35_38_Pro.jpg\n",
            "WIN_20220703_11_35_24_Pro.jpg\n",
            "WIN_20220703_11_34_46_Pro.jpg\n",
            "WIN_20220703_11_33_50_Pro.jpg\n"
          ]
        }
      ]
    },
    {
      "cell_type": "code",
      "source": [
        "test_faces = []\n",
        "test_y = []\n",
        "\n",
        "path = '/content/drive/MyDrive/BTL CV 20212/CV/test_faces/'\n",
        "\n",
        "i = 0\n",
        "for folder in os.listdir(path):\n",
        "    a = 0\n",
        "    print(folder +': ' + str(i))\n",
        "    for filename in os.listdir(os.path.join(path, folder)):\n",
        "        test_y.append(np.where(target_names == folder)[0][0])\n",
        "        \n",
        "        img = load_img(path + '/' + folder + '/' + filename, target_size=(299, 299))\n",
        "        img_arr = img_to_array(img)\n",
        "        image = np.expand_dims(img_arr, 0)\n",
        "        # image = preprocess_input(image)\n",
        "\n",
        "        image_gray = np.mean(image, axis=3)\n",
        "        test_faces.append(image_gray)\n",
        "        a += 1\n",
        "    print('Added {} images of {}'.format(a, folder))\n",
        "    print('')\n",
        "    i += 1"
      ],
      "metadata": {
        "colab": {
          "base_uri": "https://localhost:8080/"
        },
        "id": "nk_U1Jds71CJ",
        "outputId": "9ac87c79-4fbb-43d4-b4b4-7572b4e6c3bb"
      },
      "execution_count": null,
      "outputs": [
        {
          "output_type": "stream",
          "name": "stdout",
          "text": [
            "Chau: 0\n",
            "Added 5 images of Chau\n",
            "\n",
            "VAnh: 1\n",
            "Added 4 images of VAnh\n",
            "\n",
            "Unknown: 2\n",
            "Added 4 images of Unknown\n",
            "\n",
            "Thu: 3\n",
            "Added 5 images of Thu\n",
            "\n"
          ]
        }
      ]
    },
    {
      "cell_type": "code",
      "source": [
        "test_faces = np.concatenate(test_faces, axis=0)\n",
        "test_y = np.array(test_y)"
      ],
      "metadata": {
        "id": "kQ9RRzCL9pKJ"
      },
      "execution_count": null,
      "outputs": []
    },
    {
      "cell_type": "code",
      "source": [
        "print(test_y)"
      ],
      "metadata": {
        "colab": {
          "base_uri": "https://localhost:8080/"
        },
        "id": "NmKR-BvG8NIz",
        "outputId": "007cbb04-9b0b-4ee9-d641-e4b2b4a9ee51"
      },
      "execution_count": null,
      "outputs": [
        {
          "output_type": "stream",
          "name": "stdout",
          "text": [
            "[1, 1, 1, 1, 1, 3, 3, 3, 3, 18, 18, 18, 18, 0, 0, 0, 0, 0]\n"
          ]
        }
      ]
    },
    {
      "cell_type": "code",
      "source": [
        "test_x = []\n",
        "for face in test_faces:\n",
        "    test_x.append(face.flatten())\n",
        " \n",
        "# Create facematrix as (n_samples,n_pixels) matrix\n",
        "test_x = np.array(test_x)"
      ],
      "metadata": {
        "id": "zqpyK915-Er9"
      },
      "execution_count": null,
      "outputs": []
    },
    {
      "cell_type": "code",
      "source": [
        "x_test_pca = pca.transform(test_x)"
      ],
      "metadata": {
        "id": "3bHUHUfK-RXd"
      },
      "execution_count": null,
      "outputs": []
    },
    {
      "cell_type": "code",
      "source": [
        "print(x_test_pca.shape)"
      ],
      "metadata": {
        "colab": {
          "base_uri": "https://localhost:8080/"
        },
        "id": "Sk14JT2LT-w-",
        "outputId": "78ac7364-5f32-4110-b5ea-aeebda359bef"
      },
      "execution_count": null,
      "outputs": [
        {
          "output_type": "stream",
          "name": "stdout",
          "text": [
            "(9, 1097)\n"
          ]
        }
      ]
    },
    {
      "cell_type": "code",
      "source": [
        "y_pred = clf.predict(x_test_pca)\n",
        "i = 0\n",
        "for pred in y_pred:\n",
        "  print('real: ' + target_names[test_y[i]] + ' - predict: ' + target_names[y_pred[i]])\n",
        "  i += 1"
      ],
      "metadata": {
        "colab": {
          "base_uri": "https://localhost:8080/"
        },
        "id": "PC3lJ1e1-cKJ",
        "outputId": "2492307b-8173-4451-af08-1619aefdfe1f"
      },
      "execution_count": null,
      "outputs": [
        {
          "output_type": "stream",
          "name": "stdout",
          "text": [
            "real: Chau - predict: Chau\n",
            "real: Chau - predict: Chau\n",
            "real: Chau - predict: Chau\n",
            "real: Chau - predict: Chau\n",
            "real: Chau - predict: Chau\n",
            "real: VAnh - predict: Thu\n",
            "real: VAnh - predict: VAnh\n",
            "real: VAnh - predict: Thu\n",
            "real: VAnh - predict: VAnh\n",
            "real: Unknown - predict: Chau\n",
            "real: Unknown - predict: Unknown\n",
            "real: Unknown - predict: Unknown\n",
            "real: Unknown - predict: Van\n",
            "real: Thu - predict: VAnh\n",
            "real: Thu - predict: VAnh\n",
            "real: Thu - predict: Quan\n",
            "real: Thu - predict: Thu\n",
            "real: Thu - predict: VAnh\n"
          ]
        }
      ]
    },
    {
      "cell_type": "code",
      "source": [
        "import joblib\n",
        "\n",
        "pca = joblib.load(\"pca.pkl\")"
      ],
      "metadata": {
        "id": "rOSUqzgLQNco"
      },
      "execution_count": null,
      "outputs": []
    },
    {
      "cell_type": "code",
      "source": [
        "clf = joblib.load(\"model4.pkl\")"
      ],
      "metadata": {
        "id": "OuG4ShXnQihf"
      },
      "execution_count": null,
      "outputs": []
    },
    {
      "cell_type": "markdown",
      "source": [
        "# SAVE MODEL\n",
        "\n"
      ],
      "metadata": {
        "id": "UyYWDEbzAb58"
      }
    },
    {
      "cell_type": "code",
      "source": [
        "import joblib\n",
        "\n",
        "joblib.dump(clf, \"model4.pkl\") \n",
        "joblib.dump(pca, \"pca.pkl\") "
      ],
      "metadata": {
        "colab": {
          "base_uri": "https://localhost:8080/"
        },
        "id": "BCo886ITiKje",
        "outputId": "24566ae7-3477-4585-ced2-13dc1e2460be"
      },
      "execution_count": null,
      "outputs": [
        {
          "output_type": "execute_result",
          "data": {
            "text/plain": [
              "['pca.pkl']"
            ]
          },
          "metadata": {},
          "execution_count": 61
        }
      ]
    },
    {
      "cell_type": "code",
      "source": [
        "x1 = x_test_pca[0].reshape(1,-1)\n",
        "y1 = clf.predict(x1)\n",
        "print(y1)"
      ],
      "metadata": {
        "colab": {
          "base_uri": "https://localhost:8080/"
        },
        "id": "P-yFYT3V8phk",
        "outputId": "bae08167-6c67-4e57-a2f5-6f3e949de574"
      },
      "execution_count": null,
      "outputs": [
        {
          "output_type": "stream",
          "name": "stdout",
          "text": [
            "[1]\n"
          ]
        }
      ]
    },
    {
      "cell_type": "code",
      "source": [
        "print(classes)"
      ],
      "metadata": {
        "colab": {
          "base_uri": "https://localhost:8080/"
        },
        "id": "Mg3E5yTuAmDS",
        "outputId": "f25b857d-45b4-434e-9e14-d2c08c9be7a1"
      },
      "execution_count": null,
      "outputs": [
        {
          "output_type": "stream",
          "name": "stdout",
          "text": [
            "['Thu', 'Chau', 'LeVan', 'VAnh', 'Linh', 'Thang', 'Kien', 'Van', 'Tan', 'Quan', 'Tuan', 'Truong', 'XAnh', 'Hieu', 'Hung', 'HDuc', 'Duc', 'VDuc', 'Unknown']\n"
          ]
        }
      ]
    },
    {
      "cell_type": "code",
      "source": [
        "import joblib\n",
        "\n",
        "model = joblib.load(\"model4.pkl\")"
      ],
      "metadata": {
        "id": "MVKxf8eZ5ZO6"
      },
      "execution_count": null,
      "outputs": []
    },
    {
      "cell_type": "markdown",
      "source": [
        "# FastAPI"
      ],
      "metadata": {
        "id": "V4RNwibNay65"
      }
    },
    {
      "cell_type": "code",
      "source": [
        "!pip install colabcode\n",
        "!pip install fastapi\n",
        "!pip install python-multipart\n",
        "!ngrok config add-authtoken 2BOQszqGxgqykaxUl37HqQdo9yW_7g8iEo1ujw6qCu6Tq61dd"
      ],
      "metadata": {
        "colab": {
          "base_uri": "https://localhost:8080/",
          "height": 1000
        },
        "id": "nGFoN1isa1Vw",
        "outputId": "67f1d2e5-6f7b-495a-fa65-84b7b03bef0e"
      },
      "execution_count": null,
      "outputs": [
        {
          "output_type": "stream",
          "name": "stdout",
          "text": [
            "Looking in indexes: https://pypi.org/simple, https://us-python.pkg.dev/colab-wheels/public/simple/\n",
            "Collecting colabcode\n",
            "  Downloading colabcode-0.3.0-py3-none-any.whl (5.0 kB)\n",
            "Collecting jupyterlab==3.0.7\n",
            "  Downloading jupyterlab-3.0.7-py3-none-any.whl (8.3 MB)\n",
            "\u001b[K     |████████████████████████████████| 8.3 MB 4.7 MB/s \n",
            "\u001b[?25hCollecting pyngrok>=5.0.0\n",
            "  Downloading pyngrok-5.1.0.tar.gz (745 kB)\n",
            "\u001b[K     |████████████████████████████████| 745 kB 38.2 MB/s \n",
            "\u001b[?25hCollecting uvicorn==0.13.1\n",
            "  Downloading uvicorn-0.13.1-py3-none-any.whl (45 kB)\n",
            "\u001b[K     |████████████████████████████████| 45 kB 3.4 MB/s \n",
            "\u001b[?25hCollecting nest-asyncio==1.4.3\n",
            "  Downloading nest_asyncio-1.4.3-py3-none-any.whl (5.3 kB)\n",
            "Collecting tornado>=6.1.0\n",
            "  Downloading tornado-6.1-cp37-cp37m-manylinux2010_x86_64.whl (428 kB)\n",
            "\u001b[K     |████████████████████████████████| 428 kB 44.5 MB/s \n",
            "\u001b[?25hCollecting nbclassic~=0.2\n",
            "  Downloading nbclassic-0.4.0-py3-none-any.whl (9.7 MB)\n",
            "\u001b[K     |████████████████████████████████| 9.7 MB 29.1 MB/s \n",
            "\u001b[?25hRequirement already satisfied: packaging in /usr/local/lib/python3.7/dist-packages (from jupyterlab==3.0.7->colabcode) (21.3)\n",
            "Collecting jupyter-server~=1.2\n",
            "  Downloading jupyter_server-1.18.0-py3-none-any.whl (344 kB)\n",
            "\u001b[K     |████████████████████████████████| 344 kB 42.3 MB/s \n",
            "\u001b[?25hRequirement already satisfied: ipython in /usr/local/lib/python3.7/dist-packages (from jupyterlab==3.0.7->colabcode) (5.5.0)\n",
            "Collecting jupyterlab-server~=2.0\n",
            "  Downloading jupyterlab_server-2.14.0-py3-none-any.whl (54 kB)\n",
            "\u001b[K     |████████████████████████████████| 54 kB 2.3 MB/s \n",
            "\u001b[?25hRequirement already satisfied: jupyter-core in /usr/local/lib/python3.7/dist-packages (from jupyterlab==3.0.7->colabcode) (4.10.0)\n",
            "Requirement already satisfied: jinja2>=2.10 in /usr/local/lib/python3.7/dist-packages (from jupyterlab==3.0.7->colabcode) (2.11.3)\n",
            "Requirement already satisfied: click==7.* in /usr/local/lib/python3.7/dist-packages (from uvicorn==0.13.1->colabcode) (7.1.2)\n",
            "Requirement already satisfied: typing-extensions in /usr/local/lib/python3.7/dist-packages (from uvicorn==0.13.1->colabcode) (4.1.1)\n",
            "Collecting h11>=0.8\n",
            "  Downloading h11-0.13.0-py3-none-any.whl (58 kB)\n",
            "\u001b[K     |████████████████████████████████| 58 kB 5.9 MB/s \n",
            "\u001b[?25hRequirement already satisfied: MarkupSafe>=0.23 in /usr/local/lib/python3.7/dist-packages (from jinja2>=2.10->jupyterlab==3.0.7->colabcode) (2.0.1)\n",
            "Requirement already satisfied: pyzmq>=17 in /usr/local/lib/python3.7/dist-packages (from jupyter-server~=1.2->jupyterlab==3.0.7->colabcode) (23.1.0)\n",
            "Collecting jupyter-client>=6.1.12\n",
            "  Downloading jupyter_client-7.3.4-py3-none-any.whl (132 kB)\n",
            "\u001b[K     |████████████████████████████████| 132 kB 44.2 MB/s \n",
            "\u001b[?25hRequirement already satisfied: traitlets>=5.1 in /usr/local/lib/python3.7/dist-packages (from jupyter-server~=1.2->jupyterlab==3.0.7->colabcode) (5.1.1)\n",
            "Collecting websocket-client\n",
            "  Downloading websocket_client-1.3.3-py3-none-any.whl (54 kB)\n",
            "\u001b[K     |████████████████████████████████| 54 kB 2.6 MB/s \n",
            "\u001b[?25hRequirement already satisfied: prometheus-client in /usr/local/lib/python3.7/dist-packages (from jupyter-server~=1.2->jupyterlab==3.0.7->colabcode) (0.14.1)\n",
            "Requirement already satisfied: Send2Trash in /usr/local/lib/python3.7/dist-packages (from jupyter-server~=1.2->jupyterlab==3.0.7->colabcode) (1.8.0)\n",
            "Collecting anyio<4,>=3.1.0\n",
            "  Downloading anyio-3.6.1-py3-none-any.whl (80 kB)\n",
            "\u001b[K     |████████████████████████████████| 80 kB 8.7 MB/s \n",
            "\u001b[?25hRequirement already satisfied: nbformat>=5.2.0 in /usr/local/lib/python3.7/dist-packages (from jupyter-server~=1.2->jupyterlab==3.0.7->colabcode) (5.4.0)\n",
            "Requirement already satisfied: argon2-cffi in /usr/local/lib/python3.7/dist-packages (from jupyter-server~=1.2->jupyterlab==3.0.7->colabcode) (21.3.0)\n",
            "Collecting nbconvert>=6.4.4\n",
            "  Downloading nbconvert-6.5.0-py3-none-any.whl (561 kB)\n",
            "\u001b[K     |████████████████████████████████| 561 kB 45.6 MB/s \n",
            "\u001b[?25hRequirement already satisfied: terminado>=0.8.3 in /usr/local/lib/python3.7/dist-packages (from jupyter-server~=1.2->jupyterlab==3.0.7->colabcode) (0.13.3)\n",
            "Requirement already satisfied: idna>=2.8 in /usr/local/lib/python3.7/dist-packages (from anyio<4,>=3.1.0->jupyter-server~=1.2->jupyterlab==3.0.7->colabcode) (2.10)\n",
            "Collecting sniffio>=1.1\n",
            "  Downloading sniffio-1.2.0-py3-none-any.whl (10 kB)\n",
            "Requirement already satisfied: entrypoints in /usr/local/lib/python3.7/dist-packages (from jupyter-client>=6.1.12->jupyter-server~=1.2->jupyterlab==3.0.7->colabcode) (0.4)\n",
            "Collecting jupyter-client>=6.1.12\n",
            "  Downloading jupyter_client-7.3.3-py3-none-any.whl (131 kB)\n",
            "\u001b[K     |████████████████████████████████| 131 kB 47.4 MB/s \n",
            "\u001b[?25h  Downloading jupyter_client-7.3.2-py3-none-any.whl (131 kB)\n",
            "\u001b[K     |████████████████████████████████| 131 kB 44.7 MB/s \n",
            "\u001b[?25h  Downloading jupyter_client-7.3.1-py3-none-any.whl (130 kB)\n",
            "\u001b[K     |████████████████████████████████| 130 kB 45.7 MB/s \n",
            "\u001b[?25h  Downloading jupyter_client-7.3.0-py3-none-any.whl (130 kB)\n",
            "\u001b[K     |████████████████████████████████| 130 kB 44.6 MB/s \n",
            "\u001b[?25h  Downloading jupyter_client-7.2.2-py3-none-any.whl (130 kB)\n",
            "\u001b[K     |████████████████████████████████| 130 kB 41.4 MB/s \n",
            "\u001b[?25h  Downloading jupyter_client-7.2.1-py3-none-any.whl (130 kB)\n",
            "\u001b[K     |████████████████████████████████| 130 kB 46.7 MB/s \n",
            "\u001b[?25h  Downloading jupyter_client-7.2.0-py3-none-any.whl (130 kB)\n",
            "\u001b[K     |████████████████████████████████| 130 kB 48.4 MB/s \n",
            "\u001b[?25hRequirement already satisfied: python-dateutil>=2.1 in /usr/local/lib/python3.7/dist-packages (from jupyter-client>=6.1.12->jupyter-server~=1.2->jupyterlab==3.0.7->colabcode) (2.8.2)\n",
            "  Downloading jupyter_client-7.1.2-py3-none-any.whl (130 kB)\n",
            "\u001b[K     |████████████████████████████████| 130 kB 43.6 MB/s \n",
            "\u001b[?25h  Downloading jupyter_client-7.1.1-py3-none-any.whl (130 kB)\n",
            "\u001b[K     |████████████████████████████████| 130 kB 41.9 MB/s \n",
            "\u001b[?25h  Downloading jupyter_client-7.1.0-py3-none-any.whl (129 kB)\n",
            "\u001b[K     |████████████████████████████████| 129 kB 42.1 MB/s \n",
            "\u001b[?25h  Downloading jupyter_client-7.0.6-py3-none-any.whl (125 kB)\n",
            "\u001b[K     |████████████████████████████████| 125 kB 35.2 MB/s \n",
            "\u001b[?25h  Downloading jupyter_client-7.0.5-py3-none-any.whl (124 kB)\n",
            "\u001b[K     |████████████████████████████████| 124 kB 47.0 MB/s \n",
            "\u001b[?25h  Downloading jupyter_client-7.0.4-py3-none-any.whl (124 kB)\n",
            "\u001b[K     |████████████████████████████████| 124 kB 17.6 MB/s \n",
            "\u001b[?25h  Downloading jupyter_client-7.0.3-py3-none-any.whl (122 kB)\n",
            "\u001b[K     |████████████████████████████████| 122 kB 33.8 MB/s \n",
            "\u001b[?25h  Downloading jupyter_client-7.0.2-py3-none-any.whl (122 kB)\n",
            "\u001b[K     |████████████████████████████████| 122 kB 59.6 MB/s \n",
            "\u001b[?25h  Downloading jupyter_client-7.0.1-py3-none-any.whl (122 kB)\n",
            "\u001b[K     |████████████████████████████████| 122 kB 42.4 MB/s \n",
            "\u001b[?25h  Downloading jupyter_client-7.0.0-py3-none-any.whl (122 kB)\n",
            "\u001b[K     |████████████████████████████████| 122 kB 44.0 MB/s \n",
            "\u001b[?25h  Downloading jupyter_client-6.1.12-py3-none-any.whl (112 kB)\n",
            "\u001b[K     |████████████████████████████████| 112 kB 48.2 MB/s \n",
            "\u001b[?25hRequirement already satisfied: babel in /usr/local/lib/python3.7/dist-packages (from jupyterlab-server~=2.0->jupyterlab==3.0.7->colabcode) (2.10.2)\n",
            "Requirement already satisfied: importlib-metadata>=3.6 in /usr/local/lib/python3.7/dist-packages (from jupyterlab-server~=2.0->jupyterlab==3.0.7->colabcode) (4.11.4)\n",
            "Collecting json5\n",
            "  Downloading json5-0.9.8.tar.gz (22 kB)\n",
            "Collecting jinja2>=2.10\n",
            "  Downloading Jinja2-3.1.2-py3-none-any.whl (133 kB)\n",
            "\u001b[K     |████████████████████████████████| 133 kB 46.6 MB/s \n",
            "\u001b[?25hRequirement already satisfied: requests in /usr/local/lib/python3.7/dist-packages (from jupyterlab-server~=2.0->jupyterlab==3.0.7->colabcode) (2.23.0)\n",
            "Requirement already satisfied: jsonschema>=3.0.1 in /usr/local/lib/python3.7/dist-packages (from jupyterlab-server~=2.0->jupyterlab==3.0.7->colabcode) (4.3.3)\n",
            "Requirement already satisfied: zipp>=0.5 in /usr/local/lib/python3.7/dist-packages (from importlib-metadata>=3.6->jupyterlab-server~=2.0->jupyterlab==3.0.7->colabcode) (3.8.0)\n",
            "Requirement already satisfied: importlib-resources>=1.4.0 in /usr/local/lib/python3.7/dist-packages (from jsonschema>=3.0.1->jupyterlab-server~=2.0->jupyterlab==3.0.7->colabcode) (5.7.1)\n",
            "Requirement already satisfied: attrs>=17.4.0 in /usr/local/lib/python3.7/dist-packages (from jsonschema>=3.0.1->jupyterlab-server~=2.0->jupyterlab==3.0.7->colabcode) (21.4.0)\n",
            "Requirement already satisfied: pyrsistent!=0.17.0,!=0.17.1,!=0.17.2,>=0.14.0 in /usr/local/lib/python3.7/dist-packages (from jsonschema>=3.0.1->jupyterlab-server~=2.0->jupyterlab==3.0.7->colabcode) (0.18.1)\n",
            "Requirement already satisfied: ipykernel in /usr/local/lib/python3.7/dist-packages (from nbclassic~=0.2->jupyterlab==3.0.7->colabcode) (4.10.1)\n",
            "Requirement already satisfied: ipython-genutils in /usr/local/lib/python3.7/dist-packages (from nbclassic~=0.2->jupyterlab==3.0.7->colabcode) (0.2.0)\n",
            "Collecting nbclassic~=0.2\n",
            "  Downloading nbclassic-0.3.7-py3-none-any.whl (13 kB)\n",
            "Collecting notebook-shim>=0.1.0\n",
            "  Downloading notebook_shim-0.1.0-py3-none-any.whl (13 kB)\n",
            "Requirement already satisfied: notebook<7 in /usr/local/lib/python3.7/dist-packages (from nbclassic~=0.2->jupyterlab==3.0.7->colabcode) (5.3.1)\n",
            "Requirement already satisfied: defusedxml in /usr/local/lib/python3.7/dist-packages (from nbconvert>=6.4.4->jupyter-server~=1.2->jupyterlab==3.0.7->colabcode) (0.7.1)\n",
            "Requirement already satisfied: tinycss2 in /usr/local/lib/python3.7/dist-packages (from nbconvert>=6.4.4->jupyter-server~=1.2->jupyterlab==3.0.7->colabcode) (1.1.1)\n",
            "Requirement already satisfied: pandocfilters>=1.4.1 in /usr/local/lib/python3.7/dist-packages (from nbconvert>=6.4.4->jupyter-server~=1.2->jupyterlab==3.0.7->colabcode) (1.5.0)\n",
            "Requirement already satisfied: mistune<2,>=0.8.1 in /usr/local/lib/python3.7/dist-packages (from nbconvert>=6.4.4->jupyter-server~=1.2->jupyterlab==3.0.7->colabcode) (0.8.4)\n",
            "Requirement already satisfied: bleach in /usr/local/lib/python3.7/dist-packages (from nbconvert>=6.4.4->jupyter-server~=1.2->jupyterlab==3.0.7->colabcode) (5.0.0)\n",
            "Requirement already satisfied: beautifulsoup4 in /usr/local/lib/python3.7/dist-packages (from nbconvert>=6.4.4->jupyter-server~=1.2->jupyterlab==3.0.7->colabcode) (4.6.3)\n",
            "Requirement already satisfied: pygments>=2.4.1 in /usr/local/lib/python3.7/dist-packages (from nbconvert>=6.4.4->jupyter-server~=1.2->jupyterlab==3.0.7->colabcode) (2.6.1)\n",
            "Requirement already satisfied: jupyterlab-pygments in /usr/local/lib/python3.7/dist-packages (from nbconvert>=6.4.4->jupyter-server~=1.2->jupyterlab==3.0.7->colabcode) (0.2.2)\n",
            "Requirement already satisfied: nbclient>=0.5.0 in /usr/local/lib/python3.7/dist-packages (from nbconvert>=6.4.4->jupyter-server~=1.2->jupyterlab==3.0.7->colabcode) (0.6.4)\n",
            "Collecting traitlets>=5.1\n",
            "  Downloading traitlets-5.3.0-py3-none-any.whl (106 kB)\n",
            "\u001b[K     |████████████████████████████████| 106 kB 37.6 MB/s \n",
            "\u001b[?25hRequirement already satisfied: fastjsonschema in /usr/local/lib/python3.7/dist-packages (from nbformat>=5.2.0->jupyter-server~=1.2->jupyterlab==3.0.7->colabcode) (2.15.3)\n",
            "Requirement already satisfied: PyYAML in /usr/local/lib/python3.7/dist-packages (from pyngrok>=5.0.0->colabcode) (3.13)\n",
            "Requirement already satisfied: six>=1.5 in /usr/local/lib/python3.7/dist-packages (from python-dateutil>=2.1->jupyter-client>=6.1.12->jupyter-server~=1.2->jupyterlab==3.0.7->colabcode) (1.15.0)\n",
            "Requirement already satisfied: ptyprocess in /usr/local/lib/python3.7/dist-packages (from terminado>=0.8.3->jupyter-server~=1.2->jupyterlab==3.0.7->colabcode) (0.7.0)\n",
            "Requirement already satisfied: argon2-cffi-bindings in /usr/local/lib/python3.7/dist-packages (from argon2-cffi->jupyter-server~=1.2->jupyterlab==3.0.7->colabcode) (21.2.0)\n",
            "Requirement already satisfied: cffi>=1.0.1 in /usr/local/lib/python3.7/dist-packages (from argon2-cffi-bindings->argon2-cffi->jupyter-server~=1.2->jupyterlab==3.0.7->colabcode) (1.15.0)\n",
            "Requirement already satisfied: pycparser in /usr/local/lib/python3.7/dist-packages (from cffi>=1.0.1->argon2-cffi-bindings->argon2-cffi->jupyter-server~=1.2->jupyterlab==3.0.7->colabcode) (2.21)\n",
            "Requirement already satisfied: pytz>=2015.7 in /usr/local/lib/python3.7/dist-packages (from babel->jupyterlab-server~=2.0->jupyterlab==3.0.7->colabcode) (2022.1)\n",
            "Requirement already satisfied: webencodings in /usr/local/lib/python3.7/dist-packages (from bleach->nbconvert>=6.4.4->jupyter-server~=1.2->jupyterlab==3.0.7->colabcode) (0.5.1)\n",
            "Requirement already satisfied: simplegeneric>0.8 in /usr/local/lib/python3.7/dist-packages (from ipython->jupyterlab==3.0.7->colabcode) (0.8.1)\n",
            "Requirement already satisfied: pickleshare in /usr/local/lib/python3.7/dist-packages (from ipython->jupyterlab==3.0.7->colabcode) (0.7.5)\n",
            "Requirement already satisfied: prompt-toolkit<2.0.0,>=1.0.4 in /usr/local/lib/python3.7/dist-packages (from ipython->jupyterlab==3.0.7->colabcode) (1.0.18)\n",
            "Requirement already satisfied: pexpect in /usr/local/lib/python3.7/dist-packages (from ipython->jupyterlab==3.0.7->colabcode) (4.8.0)\n",
            "Requirement already satisfied: setuptools>=18.5 in /usr/local/lib/python3.7/dist-packages (from ipython->jupyterlab==3.0.7->colabcode) (57.4.0)\n",
            "Requirement already satisfied: decorator in /usr/local/lib/python3.7/dist-packages (from ipython->jupyterlab==3.0.7->colabcode) (4.4.2)\n",
            "Requirement already satisfied: wcwidth in /usr/local/lib/python3.7/dist-packages (from prompt-toolkit<2.0.0,>=1.0.4->ipython->jupyterlab==3.0.7->colabcode) (0.2.5)\n",
            "Requirement already satisfied: pyparsing!=3.0.5,>=2.0.2 in /usr/local/lib/python3.7/dist-packages (from packaging->jupyterlab==3.0.7->colabcode) (3.0.9)\n",
            "Requirement already satisfied: urllib3!=1.25.0,!=1.25.1,<1.26,>=1.21.1 in /usr/local/lib/python3.7/dist-packages (from requests->jupyterlab-server~=2.0->jupyterlab==3.0.7->colabcode) (1.24.3)\n",
            "Requirement already satisfied: certifi>=2017.4.17 in /usr/local/lib/python3.7/dist-packages (from requests->jupyterlab-server~=2.0->jupyterlab==3.0.7->colabcode) (2022.6.15)\n",
            "Requirement already satisfied: chardet<4,>=3.0.2 in /usr/local/lib/python3.7/dist-packages (from requests->jupyterlab-server~=2.0->jupyterlab==3.0.7->colabcode) (3.0.4)\n",
            "Building wheels for collected packages: pyngrok, json5\n",
            "  Building wheel for pyngrok (setup.py) ... \u001b[?25l\u001b[?25hdone\n",
            "  Created wheel for pyngrok: filename=pyngrok-5.1.0-py3-none-any.whl size=19007 sha256=a54cb3432e793f6e8369f1eec81e480a24681081274b25d5ac270c6732f24911\n",
            "  Stored in directory: /root/.cache/pip/wheels/bf/e6/af/ccf6598ecefecd44104069371795cb9b3afbcd16987f6ccfb3\n",
            "  Building wheel for json5 (setup.py) ... \u001b[?25l\u001b[?25hdone\n",
            "  Created wheel for json5: filename=json5-0.9.8-py2.py3-none-any.whl size=18604 sha256=3e16d8caa7eb052ecbaf24970c6131c9c7b5e2e4db7dc79b8d9f3e4701aa5918\n",
            "  Stored in directory: /root/.cache/pip/wheels/ac/9b/de/6e4fd8f159d3dfa42c42ceddf2184fda29ea7fb1e8f5f8371c\n",
            "Successfully built pyngrok json5\n",
            "Installing collected packages: traitlets, tornado, nest-asyncio, jupyter-client, sniffio, jinja2, websocket-client, nbconvert, anyio, jupyter-server, notebook-shim, json5, nbclassic, jupyterlab-server, h11, uvicorn, pyngrok, jupyterlab, colabcode\n",
            "  Attempting uninstall: traitlets\n",
            "    Found existing installation: traitlets 5.1.1\n",
            "    Uninstalling traitlets-5.1.1:\n",
            "      Successfully uninstalled traitlets-5.1.1\n",
            "  Attempting uninstall: tornado\n",
            "    Found existing installation: tornado 5.1.1\n",
            "    Uninstalling tornado-5.1.1:\n",
            "      Successfully uninstalled tornado-5.1.1\n",
            "  Attempting uninstall: nest-asyncio\n",
            "    Found existing installation: nest-asyncio 1.5.5\n",
            "    Uninstalling nest-asyncio-1.5.5:\n",
            "      Successfully uninstalled nest-asyncio-1.5.5\n",
            "  Attempting uninstall: jupyter-client\n",
            "    Found existing installation: jupyter-client 5.3.5\n",
            "    Uninstalling jupyter-client-5.3.5:\n",
            "      Successfully uninstalled jupyter-client-5.3.5\n",
            "  Attempting uninstall: jinja2\n",
            "    Found existing installation: Jinja2 2.11.3\n",
            "    Uninstalling Jinja2-2.11.3:\n",
            "      Successfully uninstalled Jinja2-2.11.3\n",
            "  Attempting uninstall: nbconvert\n",
            "    Found existing installation: nbconvert 5.6.1\n",
            "    Uninstalling nbconvert-5.6.1:\n",
            "      Successfully uninstalled nbconvert-5.6.1\n",
            "\u001b[31mERROR: pip's dependency resolver does not currently take into account all the packages that are installed. This behaviour is the source of the following dependency conflicts.\n",
            "google-colab 1.0.0 requires tornado~=5.1.0; python_version >= \"3.0\", but you have tornado 6.1 which is incompatible.\n",
            "flask 1.1.4 requires Jinja2<3.0,>=2.10.1, but you have jinja2 3.1.2 which is incompatible.\n",
            "datascience 0.10.6 requires folium==0.2.1, but you have folium 0.8.3 which is incompatible.\u001b[0m\n",
            "Successfully installed anyio-3.6.1 colabcode-0.3.0 h11-0.13.0 jinja2-3.1.2 json5-0.9.8 jupyter-client-6.1.12 jupyter-server-1.18.0 jupyterlab-3.0.7 jupyterlab-server-2.14.0 nbclassic-0.3.7 nbconvert-6.5.0 nest-asyncio-1.4.3 notebook-shim-0.1.0 pyngrok-5.1.0 sniffio-1.2.0 tornado-6.1 traitlets-5.3.0 uvicorn-0.13.1 websocket-client-1.3.3\n"
          ]
        },
        {
          "output_type": "display_data",
          "data": {
            "application/vnd.colab-display-data+json": {
              "pip_warning": {
                "packages": [
                  "jupyter_client",
                  "tornado"
                ]
              }
            }
          },
          "metadata": {}
        },
        {
          "output_type": "stream",
          "name": "stdout",
          "text": [
            "Looking in indexes: https://pypi.org/simple, https://us-python.pkg.dev/colab-wheels/public/simple/\n",
            "Collecting fastapi\n",
            "  Downloading fastapi-0.78.0-py3-none-any.whl (54 kB)\n",
            "\u001b[K     |████████████████████████████████| 54 kB 2.1 MB/s \n",
            "\u001b[?25hCollecting starlette==0.19.1\n",
            "  Downloading starlette-0.19.1-py3-none-any.whl (63 kB)\n",
            "\u001b[K     |████████████████████████████████| 63 kB 123 kB/s \n",
            "\u001b[?25hRequirement already satisfied: pydantic!=1.7,!=1.7.1,!=1.7.2,!=1.7.3,!=1.8,!=1.8.1,<2.0.0,>=1.6.2 in /usr/local/lib/python3.7/dist-packages (from fastapi) (1.8.2)\n",
            "Requirement already satisfied: anyio<5,>=3.4.0 in /usr/local/lib/python3.7/dist-packages (from starlette==0.19.1->fastapi) (3.6.1)\n",
            "Requirement already satisfied: typing-extensions>=3.10.0 in /usr/local/lib/python3.7/dist-packages (from starlette==0.19.1->fastapi) (4.1.1)\n",
            "Requirement already satisfied: sniffio>=1.1 in /usr/local/lib/python3.7/dist-packages (from anyio<5,>=3.4.0->starlette==0.19.1->fastapi) (1.2.0)\n",
            "Requirement already satisfied: idna>=2.8 in /usr/local/lib/python3.7/dist-packages (from anyio<5,>=3.4.0->starlette==0.19.1->fastapi) (2.10)\n",
            "Installing collected packages: starlette, fastapi\n",
            "Successfully installed fastapi-0.78.0 starlette-0.19.1\n",
            "Looking in indexes: https://pypi.org/simple, https://us-python.pkg.dev/colab-wheels/public/simple/\n",
            "Collecting python-multipart\n",
            "  Downloading python-multipart-0.0.5.tar.gz (32 kB)\n",
            "Requirement already satisfied: six>=1.4.0 in /usr/local/lib/python3.7/dist-packages (from python-multipart) (1.15.0)\n",
            "Building wheels for collected packages: python-multipart\n",
            "  Building wheel for python-multipart (setup.py) ... \u001b[?25l\u001b[?25hdone\n",
            "  Created wheel for python-multipart: filename=python_multipart-0.0.5-py3-none-any.whl size=31678 sha256=fe51a00d5f191fb3b793155da008c4697e88fd802495c34e8d88638977ea5de4\n",
            "  Stored in directory: /root/.cache/pip/wheels/2c/41/7c/bfd1c180534ffdcc0972f78c5758f89881602175d48a8bcd2c\n",
            "Successfully built python-multipart\n",
            "Installing collected packages: python-multipart\n",
            "Successfully installed python-multipart-0.0.5\n",
            "NAME:\n",
            "   ngrok - tunnel local ports to public URLs and inspect traffic\n",
            "\n",
            "DESCRIPTION:\n",
            "    ngrok exposes local networked services behinds NATs and firewalls to the\n",
            "    public internet over a secure tunnel. Share local websites, build/test\n",
            "    webhook consumers and self-host personal services.\n",
            "    Detailed help for each command is available with 'ngrok help <command>'.\n",
            "    Open http://localhost:4040 for ngrok's web interface to inspect traffic.\n",
            "\n",
            "EXAMPLES:\n",
            "    ngrok http 80                    # secure public URL for port 80 web server\n",
            "    ngrok http -subdomain=baz 8080   # port 8080 available at baz.ngrok.io\n",
            "    ngrok http foo.dev:80            # tunnel to host:port instead of localhost\n",
            "    ngrok http https://localhost     # expose a local https server\n",
            "    ngrok tcp 22                     # tunnel arbitrary TCP traffic to port 22\n",
            "    ngrok tls -hostname=foo.com 443  # TLS traffic for foo.com to port 443\n",
            "    ngrok start foo bar baz          # start tunnels from the configuration file\n",
            "\n",
            "VERSION:\n",
            "   2.3.40\n",
            "\n",
            "AUTHOR:\n",
            "  inconshreveable - <alan@ngrok.com>\n",
            "\n",
            "COMMANDS:\n",
            "   authtoken\tsave authtoken to configuration file\n",
            "   credits\tprints author and licensing information\n",
            "   http\t\tstart an HTTP tunnel\n",
            "   start\tstart tunnels by name from the configuration file\n",
            "   tcp\t\tstart a TCP tunnel\n",
            "   tls\t\tstart a TLS tunnel\n",
            "   update\tupdate ngrok to the latest version\n",
            "   version\tprint the version string\n",
            "   help\t\tShows a list of commands or help for one command\n",
            "\n",
            "ERROR:  Unrecognized command: config\n"
          ]
        }
      ]
    },
    {
      "cell_type": "code",
      "source": [
        "from colabcode import ColabCode\n",
        "from fastapi import FastAPI"
      ],
      "metadata": {
        "id": "z1MLExzQa__l"
      },
      "execution_count": null,
      "outputs": []
    },
    {
      "cell_type": "code",
      "source": [
        "cc = ColabCode(port=12000, code=False)"
      ],
      "metadata": {
        "id": "xE1584C9bGwh"
      },
      "execution_count": null,
      "outputs": []
    },
    {
      "cell_type": "code",
      "source": [
        "# Load image uploaded by user\n",
        "# Preprocessing\n",
        "# Predict\n",
        "# Return result\n",
        "from fastapi import FastAPI, File, UploadFile\n",
        "#from prediction import predict, read_image\n",
        "import tensorflow as tf\n",
        "from tensorflow.keras.applications.inception_resnet_v2 import preprocess_input\n",
        "from tensorflow.keras.utils import img_to_array\n",
        "from tensorflow.keras.utils import load_img\n",
        "import numpy as np\n",
        "from io import BytesIO\n",
        "from PIL import Image\n",
        "import pickle\n",
        "import joblib\n",
        "\n",
        "app = FastAPI()\n",
        "\n",
        "global pca, model\n",
        "\n",
        "with open(\"pca.pkl\", 'rb') as f1:\n",
        "    pca = joblib.load(f1)\n",
        "\n",
        "\n",
        "with open(\"model4.pkl\", 'rb') as f2:\n",
        "    model = joblib.load(f2)\n",
        "\n",
        "print (model)\n",
        "\n",
        "@app.post(\"/predict-tf/image\")\n",
        "async def predict_api(file: UploadFile = File(...)):\n",
        "    extension = file.filename.split(\".\")[-1] in (\"jpg\", \"jpeg\", \"png\")\n",
        "    if not extension:\n",
        "        return \"Image must be jpg or png format!\"\n",
        "\n",
        "    image = Image.open(BytesIO(await file.read()))\n",
        "\n",
        "    model = tf.keras.models.load_model(\"model4.h5\")\n",
        "\n",
        "    image = img_to_array(image.resize((299, 299)))\n",
        "    image = np.expand_dims(image, 0)\n",
        "    image = preprocess_input(image)\n",
        "\n",
        "    res = model.predict(image)\n",
        "\n",
        "    response = {\"class\": res.argmax()}\n",
        "\n",
        "    return response\n",
        "\n",
        "\n",
        "@app.post(\"/predict-svm/image\")\n",
        "async def predict_api(file: UploadFile = File(...)):\n",
        "    extension = file.filename.split(\".\")[-1] in (\"jpg\", \"jpeg\", \"png\")\n",
        "    if not extension:\n",
        "        return \"Image must be jpg or png format!\"\n",
        "\n",
        "    image = Image.open(BytesIO(await file.read()))\n",
        "\n",
        "    image = img_to_array(image.resize((299, 299)))\n",
        "    image = np.expand_dims(image, 0)\n",
        "#     image = preprocess_input(image)\n",
        "    image = np.mean(image, axis=3)\n",
        "    x = image.flatten()\n",
        "    x = x.reshape(1, -1)\n",
        "\n",
        "\n",
        "    x = pca.transform(x)\n",
        "\n",
        "#     x = x.reshape(-1, 1)\n",
        "\n",
        "    res = model.predict(x)\n",
        "\n",
        "    return res\n",
        "\n",
        "    response = {\"class\": res.argmax()}\n",
        "\n",
        "    return response"
      ],
      "metadata": {
        "colab": {
          "base_uri": "https://localhost:8080/"
        },
        "id": "CclWKRzAbKBj",
        "outputId": "cf80eadd-45ea-4c55-8fb9-444a27491d19"
      },
      "execution_count": null,
      "outputs": [
        {
          "output_type": "stream",
          "name": "stdout",
          "text": [
            "GridSearchCV(estimator=SVC(class_weight='balanced'),\n",
            "             param_grid={'C': [1000.0, 5000.0, 10000.0, 50000.0, 100000.0],\n",
            "                         'gamma': [0.0001, 0.0005, 0.001, 0.005, 0.01, 0.1]})\n"
          ]
        }
      ]
    },
    {
      "cell_type": "code",
      "source": [
        "cc.run_app(app=app)"
      ],
      "metadata": {
        "colab": {
          "base_uri": "https://localhost:8080/"
        },
        "id": "Cry5s-YRbl1M",
        "outputId": "364a793b-880a-494a-d3a0-4476394ff9d3"
      },
      "execution_count": null,
      "outputs": [
        {
          "output_type": "stream",
          "name": "stdout",
          "text": [
            "Public URL: NgrokTunnel: \"https://575c-34-68-154-46.ngrok.io\" -> \"http://localhost:12000\"\n"
          ]
        },
        {
          "output_type": "stream",
          "name": "stderr",
          "text": [
            "INFO:     Started server process [61]\n",
            "INFO:     Waiting for application startup.\n",
            "INFO:     Application startup complete.\n",
            "INFO:     Uvicorn running on http://127.0.0.1:12000 (Press CTRL+C to quit)\n"
          ]
        }
      ]
    },
    {
      "cell_type": "code",
      "source": [
        "# One-hot encoding\n",
        "lb = LabelBinarizer()\n",
        "y = lb.fit_transform(y)\n",
        "#normalize\n",
        "x = x/255"
      ],
      "metadata": {
        "execution": {
          "iopub.status.busy": "2022-04-10T18:44:51.158891Z",
          "iopub.execute_input": "2022-04-10T18:44:51.159145Z",
          "iopub.status.idle": "2022-04-10T18:44:52.303472Z",
          "shell.execute_reply.started": "2022-04-10T18:44:51.159117Z",
          "shell.execute_reply": "2022-04-10T18:44:52.302728Z"
        },
        "trusted": true,
        "id": "Iws6ORwC6E8T"
      },
      "execution_count": null,
      "outputs": []
    },
    {
      "cell_type": "code",
      "source": [
        "X_train, X_test, y_train, y_test = train_test_split(x, y, test_size=0.3, random_state=42)\n",
        "X_test, X_val, y_test, y_val = train_test_split(X_test, y_test, test_size=0.5, random_state=42)"
      ],
      "metadata": {
        "execution": {
          "iopub.status.busy": "2022-04-10T18:44:54.959836Z",
          "iopub.execute_input": "2022-04-10T18:44:54.960088Z",
          "iopub.status.idle": "2022-04-10T18:44:56.139992Z",
          "shell.execute_reply.started": "2022-04-10T18:44:54.960061Z",
          "shell.execute_reply": "2022-04-10T18:44:56.139226Z"
        },
        "trusted": true,
        "id": "1gs5r-yd6E8U"
      },
      "execution_count": null,
      "outputs": []
    },
    {
      "cell_type": "code",
      "source": [
        "augument = ImageDataGenerator(rotation_range = 30,\n",
        "                              zoom_range = 0.1,\n",
        "                              shear_range = 0.2, \n",
        "                              width_shift_range = 0.2,\n",
        "                              height_shift_range = 0.2,\n",
        "                              horizontal_flip = True, \n",
        "                              vertical_flip = True,\n",
        "                              validation_split = 0.2)"
      ],
      "metadata": {
        "execution": {
          "iopub.status.busy": "2022-04-10T14:04:16.531184Z",
          "iopub.execute_input": "2022-04-10T14:04:16.531447Z",
          "iopub.status.idle": "2022-04-10T14:04:16.536197Z",
          "shell.execute_reply.started": "2022-04-10T14:04:16.531418Z",
          "shell.execute_reply": "2022-04-10T14:04:16.535554Z"
        },
        "trusted": true,
        "id": "5f2tK9JA6E8U"
      },
      "execution_count": null,
      "outputs": []
    },
    {
      "cell_type": "code",
      "source": [
        "vgg16 = VGG16(weights='imagenet', \n",
        "              include_top=False,\n",
        "              input_shape=(299,299,3))"
      ],
      "metadata": {
        "execution": {
          "iopub.status.busy": "2022-04-10T14:26:20.845902Z",
          "iopub.execute_input": "2022-04-10T14:26:20.846593Z",
          "iopub.status.idle": "2022-04-10T14:26:21.114181Z",
          "shell.execute_reply.started": "2022-04-10T14:26:20.846556Z",
          "shell.execute_reply": "2022-04-10T14:26:21.113476Z"
        },
        "trusted": true,
        "id": "Vp-Cl4nc6E8V"
      },
      "execution_count": null,
      "outputs": []
    },
    {
      "cell_type": "code",
      "source": [
        "resnet = InceptionResNetV2(weights='imagenet', \n",
        "              include_top=False,\n",
        "              input_shape=(299,299,3))"
      ],
      "metadata": {
        "execution": {
          "iopub.status.busy": "2022-04-10T16:34:11.619969Z",
          "iopub.execute_input": "2022-04-10T16:34:11.620222Z",
          "iopub.status.idle": "2022-04-10T16:34:16.097078Z",
          "shell.execute_reply.started": "2022-04-10T16:34:11.620193Z",
          "shell.execute_reply": "2022-04-10T16:34:16.096321Z"
        },
        "trusted": true,
        "id": "F-FGcATb6E8X"
      },
      "execution_count": null,
      "outputs": []
    },
    {
      "cell_type": "code",
      "source": [
        "num_classes = 14\n",
        "\n",
        "model = Sequential([\n",
        "        resnet,\n",
        "#        vgg16,\n",
        "        GlobalAveragePooling2D(),\n",
        "        Dense(1024, activation='relu'),\n",
        "#        BatchNormalization(),\n",
        "#        Dropout(0.2),\n",
        "#        Dense(512, activation='relu'),\n",
        "#        Dropout(0.3),\n",
        "        BatchNormalization(),\n",
        "        Dense(256, activation='relu'),\n",
        "#        Dropout(0.3),\n",
        "#        BatchNormalization(),\n",
        "        Dense(128, activation='relu'),\n",
        "#        Dropout(0.3),\n",
        "#        BatchNormalization(),\n",
        "        Dense(num_classes, activation='softmax')                   \n",
        "])\n",
        "\n",
        "model.summary()"
      ],
      "metadata": {
        "execution": {
          "iopub.status.busy": "2022-04-10T16:23:45.658518Z",
          "iopub.execute_input": "2022-04-10T16:23:45.659136Z",
          "iopub.status.idle": "2022-04-10T16:23:45.751879Z",
          "shell.execute_reply.started": "2022-04-10T16:23:45.6591Z",
          "shell.execute_reply": "2022-04-10T16:23:45.751159Z"
        },
        "trusted": true,
        "id": "UTUw1Any6E8Y"
      },
      "execution_count": null,
      "outputs": []
    },
    {
      "cell_type": "code",
      "source": [
        "sgd = SGD(learning_rate=0.0001, momentum=0.8)\n",
        "adam = Adam()\n",
        "adagrad = Adagrad(learning_rate=0.0001)\n",
        "model.compile(optimizer=adagrad, loss = 'categorical_crossentropy', metrics=['accuracy'])"
      ],
      "metadata": {
        "execution": {
          "iopub.status.busy": "2022-04-10T16:24:01.225373Z",
          "iopub.execute_input": "2022-04-10T16:24:01.225978Z",
          "iopub.status.idle": "2022-04-10T16:24:01.238682Z",
          "shell.execute_reply.started": "2022-04-10T16:24:01.225939Z",
          "shell.execute_reply": "2022-04-10T16:24:01.237826Z"
        },
        "trusted": true,
        "id": "NVou9FKa6E8Z"
      },
      "execution_count": null,
      "outputs": []
    },
    {
      "cell_type": "code",
      "source": [
        "checkpoint = ModelCheckpoint(filepath='./model.h5',\n",
        "                             monitor = 'val_accuracy',\n",
        "                             verbose = 1,\n",
        "                             save_best_only = True,\n",
        "                             mode = 'max')"
      ],
      "metadata": {
        "execution": {
          "iopub.status.busy": "2022-04-10T16:24:04.106289Z",
          "iopub.execute_input": "2022-04-10T16:24:04.106564Z",
          "iopub.status.idle": "2022-04-10T16:24:04.110846Z",
          "shell.execute_reply.started": "2022-04-10T16:24:04.106533Z",
          "shell.execute_reply": "2022-04-10T16:24:04.110091Z"
        },
        "trusted": true,
        "id": "ppS-mQjC6E8a"
      },
      "execution_count": null,
      "outputs": []
    },
    {
      "cell_type": "code",
      "source": [
        "hist = model.fit(augument.flow(X_train, y_train, batch_size=8), \n",
        "                          steps_per_epoch=len(X_train) // 8, \n",
        "                          validation_data=(X_val, y_val), \n",
        "                          verbose=1, \n",
        "                          epochs = 30, \n",
        "                          callbacks= [checkpoint])"
      ],
      "metadata": {
        "execution": {
          "iopub.status.busy": "2022-04-10T16:24:09.09396Z",
          "iopub.execute_input": "2022-04-10T16:24:09.09423Z",
          "iopub.status.idle": "2022-04-10T16:33:16.662441Z",
          "shell.execute_reply.started": "2022-04-10T16:24:09.094199Z",
          "shell.execute_reply": "2022-04-10T16:33:16.661691Z"
        },
        "trusted": true,
        "id": "lZ22URAB6E8b"
      },
      "execution_count": null,
      "outputs": []
    },
    {
      "cell_type": "code",
      "source": [
        "plt.figure(figsize=(8, 6), dpi=80)\n",
        "\n",
        "# history for accuracy\n",
        "plt.plot(hist.history['accuracy'])\n",
        "plt.plot(hist.history['val_accuracy'])\n",
        "plt.title('model accuracy')\n",
        "plt.ylabel('accuracy')\n",
        "plt.xlabel('epoch')\n",
        "plt.legend(['train', 'val'], loc='upper left')\n",
        "plt.show()\n",
        "\n",
        "plt.figure(figsize=(8, 6), dpi=80)\n",
        "# history for loss\n",
        "plt.plot(hist.history['loss'])\n",
        "plt.plot(hist.history['val_loss'])\n",
        "plt.title('model loss')\n",
        "plt.ylabel('loss')\n",
        "plt.xlabel('epoch')\n",
        "plt.legend(['train', 'test'], loc='upper left')\n",
        "plt.show()"
      ],
      "metadata": {
        "execution": {
          "iopub.status.busy": "2022-04-10T16:33:40.264557Z",
          "iopub.execute_input": "2022-04-10T16:33:40.26516Z",
          "iopub.status.idle": "2022-04-10T16:33:40.649051Z",
          "shell.execute_reply.started": "2022-04-10T16:33:40.265118Z",
          "shell.execute_reply": "2022-04-10T16:33:40.648369Z"
        },
        "trusted": true,
        "id": "jyt1IKoA6E8b"
      },
      "execution_count": null,
      "outputs": []
    },
    {
      "cell_type": "code",
      "source": [
        "model = models.load_model(\"../input/model-resnet/model_resnet.h5\")"
      ],
      "metadata": {
        "execution": {
          "iopub.status.busy": "2022-04-10T18:50:36.297470Z",
          "iopub.execute_input": "2022-04-10T18:50:36.298192Z",
          "iopub.status.idle": "2022-04-10T18:50:49.054377Z",
          "shell.execute_reply.started": "2022-04-10T18:50:36.298155Z",
          "shell.execute_reply": "2022-04-10T18:50:49.053549Z"
        },
        "trusted": true,
        "id": "xe6H2oHJ6E8c"
      },
      "execution_count": null,
      "outputs": []
    },
    {
      "cell_type": "code",
      "source": [
        "model_colab = models.load_model(\"../input/model-colab/model4.h5\")"
      ],
      "metadata": {
        "execution": {
          "iopub.status.busy": "2022-04-10T18:48:42.940296Z",
          "iopub.execute_input": "2022-04-10T18:48:42.940563Z",
          "iopub.status.idle": "2022-04-10T18:48:55.892040Z",
          "shell.execute_reply.started": "2022-04-10T18:48:42.940534Z",
          "shell.execute_reply": "2022-04-10T18:48:55.891276Z"
        },
        "trusted": true,
        "id": "2TH5yokv6E8c"
      },
      "execution_count": null,
      "outputs": []
    },
    {
      "cell_type": "code",
      "source": [
        "def get_people_name():\n",
        "    i = 0\n",
        "    name = []\n",
        "    for folder in os.listdir('../input/face-recognition/faces'):\n",
        "        name.append(str(folder))\n",
        "    return name \n",
        "\n",
        "name_list = get_people_name()"
      ],
      "metadata": {
        "execution": {
          "iopub.status.busy": "2022-04-10T17:07:57.684929Z",
          "iopub.execute_input": "2022-04-10T17:07:57.685189Z",
          "iopub.status.idle": "2022-04-10T17:07:57.692591Z",
          "shell.execute_reply.started": "2022-04-10T17:07:57.685160Z",
          "shell.execute_reply": "2022-04-10T17:07:57.691868Z"
        },
        "trusted": true,
        "id": "dIRYK1o56E8d"
      },
      "execution_count": null,
      "outputs": []
    },
    {
      "cell_type": "code",
      "source": [
        "def test_result(raw_results):\n",
        "    results = []\n",
        "    for raw_result in raw_results:\n",
        "        max_num = raw_result[0]\n",
        "        temp = 0\n",
        "        for i in range (1, 14):\n",
        "            if raw_result[i] > max_num:\n",
        "                max_num = raw_result[i]\n",
        "                temp = i \n",
        "        results.append(name_list[temp])\n",
        "    return results\n",
        "    "
      ],
      "metadata": {
        "execution": {
          "iopub.status.busy": "2022-04-10T18:51:38.116337Z",
          "iopub.execute_input": "2022-04-10T18:51:38.116916Z",
          "iopub.status.idle": "2022-04-10T18:51:38.130439Z",
          "shell.execute_reply.started": "2022-04-10T18:51:38.116869Z",
          "shell.execute_reply": "2022-04-10T18:51:38.129533Z"
        },
        "trusted": true,
        "id": "DwR-Rait6E8d"
      },
      "execution_count": null,
      "outputs": []
    },
    {
      "cell_type": "code",
      "source": [
        "def reformatter(ys):\n",
        "    res = []\n",
        "    for y in ys:\n",
        "        for i in range (0, 14):\n",
        "            if y[i] == 1:\n",
        "                res.append(name_list[i])\n",
        "                break \n",
        "            \n",
        "    return res "
      ],
      "metadata": {
        "execution": {
          "iopub.status.busy": "2022-04-10T18:49:39.830905Z",
          "iopub.execute_input": "2022-04-10T18:49:39.831156Z",
          "iopub.status.idle": "2022-04-10T18:49:39.835886Z",
          "shell.execute_reply.started": "2022-04-10T18:49:39.831127Z",
          "shell.execute_reply": "2022-04-10T18:49:39.835068Z"
        },
        "trusted": true,
        "id": "LuXqI1hB6E8e"
      },
      "execution_count": null,
      "outputs": []
    },
    {
      "cell_type": "code",
      "source": [
        "predict = test_result(model.predict(X_test))\n",
        "real = reformatter(y_test)\n",
        "count = 0\n",
        "for i in range (0, 161):\n",
        "    print (f\"predict: {predict[i]} - real: {real[i]}\")\n",
        "    if predict[i] != real[i]:\n",
        "        count += 1\n",
        "print (f\"ACC: {1- count/161}\")"
      ],
      "metadata": {
        "execution": {
          "iopub.status.busy": "2022-04-10T18:51:46.158246Z",
          "iopub.execute_input": "2022-04-10T18:51:46.158522Z",
          "iopub.status.idle": "2022-04-10T18:51:50.362341Z",
          "shell.execute_reply.started": "2022-04-10T18:51:46.158473Z",
          "shell.execute_reply": "2022-04-10T18:51:50.361656Z"
        },
        "trusted": true,
        "id": "59un1moU6E8e",
        "outputId": "956de8bb-2a21-45b7-cc87-809bdac71124"
      },
      "execution_count": null,
      "outputs": [
        {
          "name": "stdout",
          "text": "predict: Tan - real: Tan\npredict: Van - real: Van\npredict: Viet Duc - real: Viet Duc\npredict: Tan - real: Tan\npredict: Duc - real: Duc\npredict: Viet Duc - real: Viet Duc\npredict: Thang - real: Thang\npredict: HDuc - real: HDuc\npredict: Thang - real: Thang\npredict: Tuan - real: Tuan\npredict: Xuan Anh - real: Xuan Anh\npredict: Hung - real: Hung\npredict: Hieu - real: Hieu\npredict: Hieu - real: Hieu\npredict: Hung - real: Hung\npredict: Truong - real: Truong\npredict: Thang - real: Thang\npredict: Duc - real: Duc\npredict: Viet Duc - real: Viet Duc\npredict: Xuan Anh - real: Xuan Anh\npredict: Tan - real: Tan\npredict: Tuan - real: Tuan\npredict: Hieu - real: Hieu\npredict: Hieu - real: Hieu\npredict: Van - real: Van\npredict: Hung - real: Hung\npredict: Quan - real: Quan\npredict: Tuan - real: Tuan\npredict: Van - real: Van\npredict: Van - real: Van\npredict: Tuan - real: Tuan\npredict: HDuc - real: HDuc\npredict: Quan - real: Quan\npredict: Tan - real: Tan\npredict: Viet Duc - real: Viet Duc\npredict: Quan - real: Quan\npredict: Linh - real: Linh\npredict: Thang - real: Thang\npredict: Van - real: Van\npredict: Tan - real: Tan\npredict: Thang - real: Thang\npredict: Van - real: Van\npredict: Kien - real: Kien\npredict: Duc - real: Duc\npredict: Tuan - real: Tuan\npredict: Hieu - real: Hieu\npredict: Linh - real: Linh\npredict: Thang - real: Thang\npredict: Tan - real: Tan\npredict: HDuc - real: HDuc\npredict: Tan - real: Tan\npredict: Van - real: Van\npredict: Hung - real: Hung\npredict: Truong - real: Truong\npredict: Quan - real: Quan\npredict: Duc - real: Duc\npredict: Linh - real: Linh\npredict: Hung - real: Hung\npredict: Hieu - real: Hieu\npredict: Thang - real: Thang\npredict: Tuan - real: Kien\npredict: Tan - real: Tan\npredict: Tuan - real: Tuan\npredict: Duc - real: Duc\npredict: Truong - real: Truong\npredict: HDuc - real: HDuc\npredict: Thang - real: Thang\npredict: Van - real: Van\npredict: Xuan Anh - real: Xuan Anh\npredict: Hung - real: Hung\npredict: Duc - real: Duc\npredict: Kien - real: Kien\npredict: Linh - real: Linh\npredict: Duc - real: Duc\npredict: Quan - real: Quan\npredict: Viet Duc - real: Viet Duc\npredict: HDuc - real: HDuc\npredict: HDuc - real: HDuc\npredict: Xuan Anh - real: Xuan Anh\npredict: Xuan Anh - real: Xuan Anh\npredict: Linh - real: Linh\npredict: Tan - real: Tan\npredict: Hung - real: Hung\npredict: Duc - real: Duc\npredict: Quan - real: Quan\npredict: Hung - real: Hung\npredict: Hieu - real: Hieu\npredict: HDuc - real: HDuc\npredict: Hieu - real: Hieu\npredict: HDuc - real: HDuc\npredict: Duc - real: Duc\npredict: Quan - real: Quan\npredict: Viet Duc - real: Viet Duc\npredict: HDuc - real: HDuc\npredict: Tan - real: Tan\npredict: Tuan - real: Tuan\npredict: Kien - real: Kien\npredict: Linh - real: Linh\npredict: Xuan Anh - real: Xuan Anh\npredict: Duc - real: Tuan\npredict: Tan - real: Tan\npredict: HDuc - real: Duc\npredict: Hung - real: Hung\npredict: Tan - real: Tan\npredict: Quan - real: Thang\npredict: Van - real: Van\npredict: Linh - real: Linh\npredict: Tan - real: Tan\npredict: Kien - real: Kien\npredict: HDuc - real: HDuc\npredict: Kien - real: Kien\npredict: Duc - real: Duc\npredict: Hung - real: Hung\npredict: Hung - real: Hung\npredict: Kien - real: Thang\npredict: HDuc - real: HDuc\npredict: Duc - real: Duc\npredict: HDuc - real: HDuc\npredict: Quan - real: Thang\npredict: Quan - real: HDuc\npredict: Tan - real: Tan\npredict: Linh - real: Linh\npredict: Van - real: Van\npredict: Kien - real: Kien\npredict: Tuan - real: Tuan\npredict: Hieu - real: Hieu\npredict: Kien - real: Kien\npredict: Hieu - real: Hieu\npredict: Truong - real: Truong\npredict: Viet Duc - real: Viet Duc\npredict: Duc - real: Duc\npredict: HDuc - real: HDuc\npredict: Truong - real: Truong\npredict: Quan - real: Quan\npredict: Tuan - real: Tuan\npredict: HDuc - real: HDuc\npredict: Hieu - real: Hieu\npredict: Tuan - real: Tuan\npredict: Duc - real: Duc\npredict: Viet Duc - real: Viet Duc\npredict: Truong - real: Truong\npredict: Hung - real: Hung\npredict: Xuan Anh - real: Xuan Anh\npredict: Thang - real: Thang\npredict: Viet Duc - real: Viet Duc\npredict: Truong - real: Truong\npredict: Xuan Anh - real: Xuan Anh\npredict: Truong - real: Truong\npredict: Viet Duc - real: Viet Duc\npredict: Viet Duc - real: Viet Duc\npredict: Tan - real: Tan\npredict: Viet Duc - real: Viet Duc\npredict: Kien - real: Kien\npredict: Tan - real: Tan\npredict: Truong - real: Truong\npredict: Hung - real: Hung\npredict: Duc - real: Duc\npredict: Tuan - real: Tuan\npredict: Hieu - real: Hieu\npredict: Tuan - real: Tuan\npredict: Hung - real: Hung\nACC: 0.9565217391304348\n",
          "output_type": "stream"
        }
      ]
    },
    {
      "cell_type": "markdown",
      "source": [
        "#TEST SECTION "
      ],
      "metadata": {
        "id": "2nzcysgx8HWa"
      }
    },
    {
      "cell_type": "code",
      "source": [
        "#Name of class with order \n",
        "name_list = ['Tuan', 'Tan', 'Xuan Anh', 'Kien', \n",
        "             'Viet Duc', 'Duc', 'Quan', 'Hung', \n",
        "             'Hieu', 'Thang', 'Truong', 'Linh',\n",
        "             'HDuc', 'Van']"
      ],
      "metadata": {
        "id": "kcSy2x_E8ZKp"
      },
      "execution_count": null,
      "outputs": []
    },
    {
      "cell_type": "code",
      "source": [
        "#Get name of the result \n",
        "def test_result(raw_results):\n",
        "    results = []\n",
        "    for raw_result in raw_results:\n",
        "        max_num = raw_result[0]\n",
        "        temp = 0\n",
        "        for i in range (1, 14):\n",
        "            if raw_result[i] > max_num:\n",
        "                max_num = raw_result[i]\n",
        "                temp = i \n",
        "        results.append(name_list[temp])\n",
        "    return results"
      ],
      "metadata": {
        "id": "wYBo8hjU8dKl"
      },
      "execution_count": null,
      "outputs": []
    },
    {
      "cell_type": "code",
      "source": [
        "#Evaluate \n",
        "def run_to_grade(path_to_test, path_to_model):\n",
        "    model = models.load_model(path_to_model)\n",
        "    x = []\n",
        "    y = []\n",
        "    for file in os.listdir(path_to_test):\n",
        "        y.append(str(file))    \n",
        "\n",
        "        img = load_img(path_to_test + '/' + file, target_size=(299, 299))\n",
        "        img_arr = img_to_array(img)\n",
        "        image = np.expand_dims(img_arr, 0)\n",
        "        image = preprocess_input(image)\n",
        "\n",
        "        x.append(image)\n",
        "\n",
        "    test_size = len(os.listdir(path_to_test))\n",
        "\n",
        "    x = np.concate(x, axis=1)\n",
        "    x = x/255\n",
        "\n",
        "    predict = test_result(model.predict(x))\n",
        "\n",
        "    for i in range (0, test_size):\n",
        "        print (f\"predict: {predict[i]} - real: {y[i]}\")\n",
        "    "
      ],
      "metadata": {
        "id": "6jqrkTz_6E8f"
      },
      "execution_count": null,
      "outputs": []
    },
    {
      "cell_type": "code",
      "source": [
        "run_to_grade(\"\", \"\") #fill your paths (test_folder, model_file)"
      ],
      "metadata": {
        "id": "vmTTJ8a882qz"
      },
      "execution_count": null,
      "outputs": []
    }
  ]
}